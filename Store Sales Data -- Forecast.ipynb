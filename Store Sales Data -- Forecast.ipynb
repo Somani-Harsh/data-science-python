{
 "cells": [
  {
   "cell_type": "code",
   "execution_count": 49,
   "metadata": {},
   "outputs": [],
   "source": [
    "from datetime import datetime, timedelta\n",
    "\n",
    "import numpy as np\n",
    "import pandas as pd\n",
    "from scipy import stats\n",
    "\n",
    "import seaborn as sns\n",
    "from matplotlib import pyplot as plt\n",
    "\n",
    "from sklearn.ensemble import RandomForestRegressor\n",
    "from sklearn.preprocessing import LabelEncoder\n",
    "\n",
    "from xgboost import XGBRegressor"
   ]
  },
  {
   "cell_type": "code",
   "execution_count": 2,
   "metadata": {},
   "outputs": [],
   "source": [
    "df = pd.read_csv(\"sales_data_v2/file6.csv\")"
   ]
  },
  {
   "cell_type": "code",
   "execution_count": 3,
   "metadata": {},
   "outputs": [],
   "source": [
    "df[\"Sale Date\"] = pd.to_datetime(df[\"Sale Date\"])\n",
    "df[\"week\"] = df[\"Sale Date\"].dt.week\n",
    "df[\"year\"] = df[\"Sale Date\"].dt.year\n",
    "df[\"month\"] = df[\"Sale Date\"].dt.month\n",
    "df[\"Amount\"] = df[\"Sales Price\"] * df[\"Sales Qty\"]"
   ]
  },
  {
   "cell_type": "code",
   "execution_count": 4,
   "metadata": {},
   "outputs": [
    {
     "name": "stdout",
     "output_type": "stream",
     "text": [
      "Number of missing values:\n",
      " SKU Code       0\n",
      "Brand Code     0\n",
      "Category       0\n",
      "Bill Number    0\n",
      "Store Code     0\n",
      "Sale Date      0\n",
      "Sale/Return    0\n",
      "MRP            0\n",
      "Sales Price    0\n",
      "Sales Qty      0\n",
      "week           0\n",
      "year           0\n",
      "month          0\n",
      "Amount         0\n",
      "dtype: int64\n"
     ]
    }
   ],
   "source": [
    "def preprocess_data(df):\n",
    "    # Keep rows where price > 0 \n",
    "    df = df[df[\"Sales Price\"] > 0]\n",
    "\n",
    "    # Keep rows where MRP >= sell price\n",
    "    df = df[df[\"MRP\"] >= df[\"Sales Price\"]]\n",
    "    \n",
    "    print('Number of missing values:\\n',df.isnull().sum())\n",
    "    df = df[~df[\"Category\"].isnull()]\n",
    "    \n",
    "    # Remove returned items\n",
    "    df = df[df[\"Sales Qty\"]>0]\n",
    "\n",
    "    df[\"Sale Date\"] = pd.to_datetime(df[\"Sale Date\"])\n",
    "    return df\n",
    "\n",
    "df = preprocess_data(df)"
   ]
  },
  {
   "cell_type": "code",
   "execution_count": 5,
   "metadata": {},
   "outputs": [
    {
     "data": {
      "text/html": [
       "<div>\n",
       "<style scoped>\n",
       "    .dataframe tbody tr th:only-of-type {\n",
       "        vertical-align: middle;\n",
       "    }\n",
       "\n",
       "    .dataframe tbody tr th {\n",
       "        vertical-align: top;\n",
       "    }\n",
       "\n",
       "    .dataframe thead th {\n",
       "        text-align: right;\n",
       "    }\n",
       "</style>\n",
       "<table border=\"1\" class=\"dataframe\">\n",
       "  <thead>\n",
       "    <tr style=\"text-align: right;\">\n",
       "      <th></th>\n",
       "      <th>SKU Code</th>\n",
       "      <th>Brand Code</th>\n",
       "      <th>Category</th>\n",
       "      <th>Bill Number</th>\n",
       "      <th>Store Code</th>\n",
       "      <th>Sale Date</th>\n",
       "      <th>Sale/Return</th>\n",
       "      <th>MRP</th>\n",
       "      <th>Sales Price</th>\n",
       "      <th>Sales Qty</th>\n",
       "      <th>week</th>\n",
       "      <th>year</th>\n",
       "      <th>month</th>\n",
       "      <th>Amount</th>\n",
       "    </tr>\n",
       "  </thead>\n",
       "  <tbody>\n",
       "    <tr>\n",
       "      <th>0</th>\n",
       "      <td>SKU0729</td>\n",
       "      <td>BRAND017</td>\n",
       "      <td>Cat07</td>\n",
       "      <td>BILL02591</td>\n",
       "      <td>Store 5</td>\n",
       "      <td>2017-09-16</td>\n",
       "      <td>Sale</td>\n",
       "      <td>25.33</td>\n",
       "      <td>25.33</td>\n",
       "      <td>1</td>\n",
       "      <td>37</td>\n",
       "      <td>2017</td>\n",
       "      <td>9</td>\n",
       "      <td>25.33</td>\n",
       "    </tr>\n",
       "    <tr>\n",
       "      <th>1</th>\n",
       "      <td>SKU0624</td>\n",
       "      <td>BRAND027</td>\n",
       "      <td>Cat04</td>\n",
       "      <td>BILL02592</td>\n",
       "      <td>Store 5</td>\n",
       "      <td>2017-09-16</td>\n",
       "      <td>Sale</td>\n",
       "      <td>2.00</td>\n",
       "      <td>2.00</td>\n",
       "      <td>1</td>\n",
       "      <td>37</td>\n",
       "      <td>2017</td>\n",
       "      <td>9</td>\n",
       "      <td>2.00</td>\n",
       "    </tr>\n",
       "    <tr>\n",
       "      <th>2</th>\n",
       "      <td>SKU0650</td>\n",
       "      <td>BRAND027</td>\n",
       "      <td>Cat04</td>\n",
       "      <td>BILL02592</td>\n",
       "      <td>Store 5</td>\n",
       "      <td>2017-09-16</td>\n",
       "      <td>Sale</td>\n",
       "      <td>1.33</td>\n",
       "      <td>1.33</td>\n",
       "      <td>1</td>\n",
       "      <td>37</td>\n",
       "      <td>2017</td>\n",
       "      <td>9</td>\n",
       "      <td>1.33</td>\n",
       "    </tr>\n",
       "    <tr>\n",
       "      <th>3</th>\n",
       "      <td>SKU0730</td>\n",
       "      <td>BRAND018</td>\n",
       "      <td>Cat04</td>\n",
       "      <td>BILL02593</td>\n",
       "      <td>Store 5</td>\n",
       "      <td>2017-09-16</td>\n",
       "      <td>Sale</td>\n",
       "      <td>24.67</td>\n",
       "      <td>24.67</td>\n",
       "      <td>1</td>\n",
       "      <td>37</td>\n",
       "      <td>2017</td>\n",
       "      <td>9</td>\n",
       "      <td>24.67</td>\n",
       "    </tr>\n",
       "    <tr>\n",
       "      <th>4</th>\n",
       "      <td>SKU0731</td>\n",
       "      <td>BRAND018</td>\n",
       "      <td>Cat04</td>\n",
       "      <td>BILL02593</td>\n",
       "      <td>Store 5</td>\n",
       "      <td>2017-09-16</td>\n",
       "      <td>Sale</td>\n",
       "      <td>20.67</td>\n",
       "      <td>20.67</td>\n",
       "      <td>1</td>\n",
       "      <td>37</td>\n",
       "      <td>2017</td>\n",
       "      <td>9</td>\n",
       "      <td>20.67</td>\n",
       "    </tr>\n",
       "  </tbody>\n",
       "</table>\n",
       "</div>"
      ],
      "text/plain": [
       "  SKU Code Brand Code Category Bill Number Store Code  Sale Date Sale/Return  \\\n",
       "0  SKU0729   BRAND017    Cat07   BILL02591    Store 5 2017-09-16        Sale   \n",
       "1  SKU0624   BRAND027    Cat04   BILL02592    Store 5 2017-09-16        Sale   \n",
       "2  SKU0650   BRAND027    Cat04   BILL02592    Store 5 2017-09-16        Sale   \n",
       "3  SKU0730   BRAND018    Cat04   BILL02593    Store 5 2017-09-16        Sale   \n",
       "4  SKU0731   BRAND018    Cat04   BILL02593    Store 5 2017-09-16        Sale   \n",
       "\n",
       "     MRP  Sales Price  Sales Qty  week  year  month  Amount  \n",
       "0  25.33        25.33          1    37  2017      9   25.33  \n",
       "1   2.00         2.00          1    37  2017      9    2.00  \n",
       "2   1.33         1.33          1    37  2017      9    1.33  \n",
       "3  24.67        24.67          1    37  2017      9   24.67  \n",
       "4  20.67        20.67          1    37  2017      9   20.67  "
      ]
     },
     "execution_count": 5,
     "metadata": {},
     "output_type": "execute_result"
    }
   ],
   "source": [
    "df.head()"
   ]
  },
  {
   "cell_type": "code",
   "execution_count": 6,
   "metadata": {},
   "outputs": [],
   "source": [
    "df[\"discount\"] = df.apply(lambda x: 100*(1 - x[\"Sales Price\"]/x[\"MRP\"]), axis=1)"
   ]
  },
  {
   "cell_type": "code",
   "execution_count": 7,
   "metadata": {},
   "outputs": [],
   "source": [
    "def get_features_by_category(df):\n",
    "    cat_feaures = pd.Series()\n",
    "    cat_feaures[\"SKUs\"] = len(df[\"SKU Code\"].unique())\n",
    "    cat_feaures[\"Brands\"] = len(df[\"Brand Code\"].unique())\n",
    "    cat_feaures[\"Cat avg selling price\"] = sum(df[\"Amount\"])/sum(df[\"Sales Qty\"])\n",
    "    return cat_feaures"
   ]
  },
  {
   "cell_type": "code",
   "execution_count": 8,
   "metadata": {},
   "outputs": [
    {
     "data": {
      "text/html": [
       "<div>\n",
       "<style scoped>\n",
       "    .dataframe tbody tr th:only-of-type {\n",
       "        vertical-align: middle;\n",
       "    }\n",
       "\n",
       "    .dataframe tbody tr th {\n",
       "        vertical-align: top;\n",
       "    }\n",
       "\n",
       "    .dataframe thead th {\n",
       "        text-align: right;\n",
       "    }\n",
       "</style>\n",
       "<table border=\"1\" class=\"dataframe\">\n",
       "  <thead>\n",
       "    <tr style=\"text-align: right;\">\n",
       "      <th></th>\n",
       "      <th>Category</th>\n",
       "      <th>SKUs</th>\n",
       "      <th>Brands</th>\n",
       "      <th>Cat avg selling price</th>\n",
       "    </tr>\n",
       "  </thead>\n",
       "  <tbody>\n",
       "    <tr>\n",
       "      <th>0</th>\n",
       "      <td>Cat01</td>\n",
       "      <td>522.0</td>\n",
       "      <td>28.0</td>\n",
       "      <td>64.215815</td>\n",
       "    </tr>\n",
       "    <tr>\n",
       "      <th>1</th>\n",
       "      <td>Cat02</td>\n",
       "      <td>103.0</td>\n",
       "      <td>6.0</td>\n",
       "      <td>17.506802</td>\n",
       "    </tr>\n",
       "    <tr>\n",
       "      <th>2</th>\n",
       "      <td>Cat03</td>\n",
       "      <td>58.0</td>\n",
       "      <td>4.0</td>\n",
       "      <td>24.682842</td>\n",
       "    </tr>\n",
       "    <tr>\n",
       "      <th>3</th>\n",
       "      <td>Cat04</td>\n",
       "      <td>299.0</td>\n",
       "      <td>9.0</td>\n",
       "      <td>6.654645</td>\n",
       "    </tr>\n",
       "    <tr>\n",
       "      <th>4</th>\n",
       "      <td>Cat07</td>\n",
       "      <td>1002.0</td>\n",
       "      <td>14.0</td>\n",
       "      <td>19.828045</td>\n",
       "    </tr>\n",
       "    <tr>\n",
       "      <th>5</th>\n",
       "      <td>Cat08</td>\n",
       "      <td>43.0</td>\n",
       "      <td>4.0</td>\n",
       "      <td>8.145342</td>\n",
       "    </tr>\n",
       "  </tbody>\n",
       "</table>\n",
       "</div>"
      ],
      "text/plain": [
       "  Category    SKUs  Brands  Cat avg selling price\n",
       "0    Cat01   522.0    28.0              64.215815\n",
       "1    Cat02   103.0     6.0              17.506802\n",
       "2    Cat03    58.0     4.0              24.682842\n",
       "3    Cat04   299.0     9.0               6.654645\n",
       "4    Cat07  1002.0    14.0              19.828045\n",
       "5    Cat08    43.0     4.0               8.145342"
      ]
     },
     "execution_count": 8,
     "metadata": {},
     "output_type": "execute_result"
    }
   ],
   "source": [
    "grouped_df = df.groupby(\"Category\").apply(get_features_by_category)\n",
    "grouped_df = grouped_df.reset_index()\n",
    "grouped_df"
   ]
  },
  {
   "cell_type": "code",
   "execution_count": 9,
   "metadata": {},
   "outputs": [],
   "source": [
    "df = df.merge(grouped_df, on=\"Category\", how=\"left\")"
   ]
  },
  {
   "cell_type": "code",
   "execution_count": 10,
   "metadata": {},
   "outputs": [
    {
     "data": {
      "text/plain": [
       "Index(['SKU Code', 'Brand Code', 'Category', 'Bill Number', 'Store Code',\n",
       "       'Sale Date', 'Sale/Return', 'MRP', 'Sales Price', 'Sales Qty', 'week',\n",
       "       'year', 'month', 'Amount', 'discount', 'SKUs', 'Brands',\n",
       "       'Cat avg selling price'],\n",
       "      dtype='object')"
      ]
     },
     "execution_count": 10,
     "metadata": {},
     "output_type": "execute_result"
    }
   ],
   "source": [
    "df.keys()"
   ]
  },
  {
   "cell_type": "code",
   "execution_count": 11,
   "metadata": {},
   "outputs": [
    {
     "data": {
      "text/html": [
       "<div>\n",
       "<style scoped>\n",
       "    .dataframe tbody tr th:only-of-type {\n",
       "        vertical-align: middle;\n",
       "    }\n",
       "\n",
       "    .dataframe tbody tr th {\n",
       "        vertical-align: top;\n",
       "    }\n",
       "\n",
       "    .dataframe thead th {\n",
       "        text-align: right;\n",
       "    }\n",
       "</style>\n",
       "<table border=\"1\" class=\"dataframe\">\n",
       "  <thead>\n",
       "    <tr style=\"text-align: right;\">\n",
       "      <th></th>\n",
       "      <th>SKU Code</th>\n",
       "      <th>Brand Code</th>\n",
       "      <th>Category</th>\n",
       "      <th>Bill Number</th>\n",
       "      <th>Store Code</th>\n",
       "      <th>Sale Date</th>\n",
       "      <th>Sale/Return</th>\n",
       "      <th>MRP</th>\n",
       "      <th>Sales Price</th>\n",
       "      <th>Sales Qty</th>\n",
       "      <th>week</th>\n",
       "      <th>year</th>\n",
       "      <th>month</th>\n",
       "      <th>Amount</th>\n",
       "      <th>discount</th>\n",
       "      <th>SKUs</th>\n",
       "      <th>Brands</th>\n",
       "      <th>Cat avg selling price</th>\n",
       "    </tr>\n",
       "  </thead>\n",
       "  <tbody>\n",
       "    <tr>\n",
       "      <th>0</th>\n",
       "      <td>SKU0729</td>\n",
       "      <td>BRAND017</td>\n",
       "      <td>Cat07</td>\n",
       "      <td>BILL02591</td>\n",
       "      <td>Store 5</td>\n",
       "      <td>2017-09-16</td>\n",
       "      <td>Sale</td>\n",
       "      <td>25.33</td>\n",
       "      <td>25.33</td>\n",
       "      <td>1</td>\n",
       "      <td>37</td>\n",
       "      <td>2017</td>\n",
       "      <td>9</td>\n",
       "      <td>25.33</td>\n",
       "      <td>0.0</td>\n",
       "      <td>1002.0</td>\n",
       "      <td>14.0</td>\n",
       "      <td>19.828045</td>\n",
       "    </tr>\n",
       "    <tr>\n",
       "      <th>1</th>\n",
       "      <td>SKU0624</td>\n",
       "      <td>BRAND027</td>\n",
       "      <td>Cat04</td>\n",
       "      <td>BILL02592</td>\n",
       "      <td>Store 5</td>\n",
       "      <td>2017-09-16</td>\n",
       "      <td>Sale</td>\n",
       "      <td>2.00</td>\n",
       "      <td>2.00</td>\n",
       "      <td>1</td>\n",
       "      <td>37</td>\n",
       "      <td>2017</td>\n",
       "      <td>9</td>\n",
       "      <td>2.00</td>\n",
       "      <td>0.0</td>\n",
       "      <td>299.0</td>\n",
       "      <td>9.0</td>\n",
       "      <td>6.654645</td>\n",
       "    </tr>\n",
       "    <tr>\n",
       "      <th>2</th>\n",
       "      <td>SKU0650</td>\n",
       "      <td>BRAND027</td>\n",
       "      <td>Cat04</td>\n",
       "      <td>BILL02592</td>\n",
       "      <td>Store 5</td>\n",
       "      <td>2017-09-16</td>\n",
       "      <td>Sale</td>\n",
       "      <td>1.33</td>\n",
       "      <td>1.33</td>\n",
       "      <td>1</td>\n",
       "      <td>37</td>\n",
       "      <td>2017</td>\n",
       "      <td>9</td>\n",
       "      <td>1.33</td>\n",
       "      <td>0.0</td>\n",
       "      <td>299.0</td>\n",
       "      <td>9.0</td>\n",
       "      <td>6.654645</td>\n",
       "    </tr>\n",
       "    <tr>\n",
       "      <th>3</th>\n",
       "      <td>SKU0730</td>\n",
       "      <td>BRAND018</td>\n",
       "      <td>Cat04</td>\n",
       "      <td>BILL02593</td>\n",
       "      <td>Store 5</td>\n",
       "      <td>2017-09-16</td>\n",
       "      <td>Sale</td>\n",
       "      <td>24.67</td>\n",
       "      <td>24.67</td>\n",
       "      <td>1</td>\n",
       "      <td>37</td>\n",
       "      <td>2017</td>\n",
       "      <td>9</td>\n",
       "      <td>24.67</td>\n",
       "      <td>0.0</td>\n",
       "      <td>299.0</td>\n",
       "      <td>9.0</td>\n",
       "      <td>6.654645</td>\n",
       "    </tr>\n",
       "    <tr>\n",
       "      <th>4</th>\n",
       "      <td>SKU0731</td>\n",
       "      <td>BRAND018</td>\n",
       "      <td>Cat04</td>\n",
       "      <td>BILL02593</td>\n",
       "      <td>Store 5</td>\n",
       "      <td>2017-09-16</td>\n",
       "      <td>Sale</td>\n",
       "      <td>20.67</td>\n",
       "      <td>20.67</td>\n",
       "      <td>1</td>\n",
       "      <td>37</td>\n",
       "      <td>2017</td>\n",
       "      <td>9</td>\n",
       "      <td>20.67</td>\n",
       "      <td>0.0</td>\n",
       "      <td>299.0</td>\n",
       "      <td>9.0</td>\n",
       "      <td>6.654645</td>\n",
       "    </tr>\n",
       "  </tbody>\n",
       "</table>\n",
       "</div>"
      ],
      "text/plain": [
       "  SKU Code Brand Code Category Bill Number Store Code  Sale Date Sale/Return  \\\n",
       "0  SKU0729   BRAND017    Cat07   BILL02591    Store 5 2017-09-16        Sale   \n",
       "1  SKU0624   BRAND027    Cat04   BILL02592    Store 5 2017-09-16        Sale   \n",
       "2  SKU0650   BRAND027    Cat04   BILL02592    Store 5 2017-09-16        Sale   \n",
       "3  SKU0730   BRAND018    Cat04   BILL02593    Store 5 2017-09-16        Sale   \n",
       "4  SKU0731   BRAND018    Cat04   BILL02593    Store 5 2017-09-16        Sale   \n",
       "\n",
       "     MRP  Sales Price  Sales Qty  week  year  month  Amount  discount    SKUs  \\\n",
       "0  25.33        25.33          1    37  2017      9   25.33       0.0  1002.0   \n",
       "1   2.00         2.00          1    37  2017      9    2.00       0.0   299.0   \n",
       "2   1.33         1.33          1    37  2017      9    1.33       0.0   299.0   \n",
       "3  24.67        24.67          1    37  2017      9   24.67       0.0   299.0   \n",
       "4  20.67        20.67          1    37  2017      9   20.67       0.0   299.0   \n",
       "\n",
       "   Brands  Cat avg selling price  \n",
       "0    14.0              19.828045  \n",
       "1     9.0               6.654645  \n",
       "2     9.0               6.654645  \n",
       "3     9.0               6.654645  \n",
       "4     9.0               6.654645  "
      ]
     },
     "execution_count": 11,
     "metadata": {},
     "output_type": "execute_result"
    }
   ],
   "source": [
    "df.head()"
   ]
  },
  {
   "cell_type": "code",
   "execution_count": null,
   "metadata": {
    "scrolled": true
   },
   "outputs": [],
   "source": []
  },
  {
   "cell_type": "code",
   "execution_count": 13,
   "metadata": {},
   "outputs": [],
   "source": [
    "def get_previous_year_week(year, week):\n",
    "    week_start_date = datetime.strptime(\"%d-%d\"%(year, week) + '-1', \"%Y-%W-%w\")\n",
    "    dt = week_start_date - timedelta(days=7)\n",
    "    year = dt.year\n",
    "    week = dt.isocalendar()[1]\n",
    "    return (year, week)\n",
    "\n",
    "\n",
    "def get_next_year_week(year, week):\n",
    "    week_start_date = datetime.strptime(\"%d-%d\"%(year, week) + '-1', \"%Y-%W-%w\")\n",
    "    dt = week_start_date + timedelta(days=7)\n",
    "    year = dt.year\n",
    "    week = dt.isocalendar()[1]\n",
    "    return (year, week)\n",
    "\n",
    "def get_month_from_year_week(year, week):\n",
    "    return datetime.strptime(\"%d-%d\"%(year, week) + '-1', \"%Y-%W-%w\").month\n",
    "\n",
    "def get_season(month):\n",
    "    return str(int((month + 1)%12 / 3))\n",
    "\n",
    "def get_last_week_sale(df):\n",
    "    df[\"year_week\"] = df.apply(lambda x: (x[\"year\"], x[\"week\"]), axis=1)\n",
    "    temp_df = df.copy()\n",
    "    temp_df = temp_df[[\"year_week\", \"weekly_SUs_sold\"]]\n",
    "    temp_df.columns = [\"y_w\", \"previous_week_sale\"]\n",
    "    df[\"previous_year_week\"] = df.apply(lambda x: get_previous_year_week(x[\"year\"], x[\"week\"]), axis=1)\n",
    "    df = df.merge(temp_df, left_on=\"previous_year_week\", right_on=\"y_w\", how=\"left\")\n",
    "    return df[[\"Category\", \"year\", \"week\", \"weekly_SUs_sold\", \"weekly_discount\", \"season\", \"month\", \"previous_week_sale\"]]"
   ]
  },
  {
   "cell_type": "code",
   "execution_count": 50,
   "metadata": {},
   "outputs": [],
   "source": [
    "def nonzero_mode(arr):\n",
    "    return stats.mode(arr[np.nonzero(arr)]).mode\n",
    "\n",
    "def get_discount(df):\n",
    "    arr = nonzero_mode(np.array(df[\"discount\"]))\n",
    "    if len(arr) > 0:\n",
    "        return arr[0]\n",
    "    return 0"
   ]
  },
  {
   "cell_type": "code",
   "execution_count": 51,
   "metadata": {},
   "outputs": [],
   "source": [
    "def weekly_features(df):\n",
    "    series = pd.Series()\n",
    "    series[\"weekly_SUs_sold\"] = sum(df[\"Sales Qty\"])\n",
    "    series[\"weekly_discount\"] = get_discount(df)  # 100 * (1 - np.sum(df[\"Amount\"])/np.sum(df[\"MRP\"]*df[\"Sales Qty\"]))\n",
    "    series[\"season\"] = get_season(df[\"month\"].head(1))\n",
    "    series[\"month\"] = df[\"month\"].max()\n",
    "    return series\n",
    "\n",
    "def more_features(df):\n",
    "    df = get_last_week_sale(df)\n",
    "    return df[[\"year\",\"week\", \"weekly_SUs_sold\", \"weekly_discount\", \"season\", \"month\", \"previous_week_sale\"]]"
   ]
  },
  {
   "cell_type": "code",
   "execution_count": 52,
   "metadata": {},
   "outputs": [
    {
     "name": "stderr",
     "output_type": "stream",
     "text": [
      "D:\\Anaconda\\envs\\py36\\lib\\site-packages\\pandas\\core\\groupby\\groupby.py:4315: FutureWarning: arrays to stack must be passed as a \"sequence\" type such as list or tuple. Support for non-sequence iterables such as generators is deprecated as of NumPy 1.16 and will raise an error in the future.\n",
      "  stacked_values = np.vstack(map(np.asarray, values))\n"
     ]
    }
   ],
   "source": [
    "temp_df = df.groupby([\"Category\", \"year\", \"week\"]).apply(weekly_features).reset_index()\n",
    "temp_df = temp_df.groupby(\"Category\").apply(more_features).reset_index().fillna(0)"
   ]
  },
  {
   "cell_type": "code",
   "execution_count": null,
   "metadata": {},
   "outputs": [],
   "source": []
  },
  {
   "cell_type": "code",
   "execution_count": 53,
   "metadata": {},
   "outputs": [],
   "source": [
    "le = LabelEncoder()\n",
    "temp_df[\"Category\"] = le.fit_transform(temp_df[\"Category\"])"
   ]
  },
  {
   "cell_type": "code",
   "execution_count": 54,
   "metadata": {},
   "outputs": [],
   "source": [
    "t_df = temp_df[[\"Category\", \"year\", \"week\", \"month\", \"season\"]].astype(\"category\")\n",
    "t_df[\"weekly_discount\"] = temp_df[\"weekly_discount\"]\n",
    "t_df[\"qty sold\"] = temp_df[\"weekly_SUs_sold\"]\n",
    "t_df[\"previous_week_sale\"] = temp_df[\"previous_week_sale\"]"
   ]
  },
  {
   "cell_type": "code",
   "execution_count": 55,
   "metadata": {},
   "outputs": [],
   "source": [
    "features = ['Category', 'year', 'week', 'month', 'season']"
   ]
  },
  {
   "cell_type": "code",
   "execution_count": 56,
   "metadata": {},
   "outputs": [],
   "source": [
    "X = np.array(t_df[features].values)\n",
    "y = np.array(t_df[\"qty sold\"])"
   ]
  },
  {
   "cell_type": "code",
   "execution_count": 57,
   "metadata": {},
   "outputs": [
    {
     "data": {
      "text/plain": [
       "((283, 5), (283,))"
      ]
     },
     "execution_count": 57,
     "metadata": {},
     "output_type": "execute_result"
    }
   ],
   "source": [
    "X.shape, y.shape"
   ]
  },
  {
   "cell_type": "code",
   "execution_count": 58,
   "metadata": {},
   "outputs": [],
   "source": [
    "def train_regressor(regressor, X, y):\n",
    "    regressor.fit(X, y)\n",
    "    print(regressor.feature_importances_)\n",
    "    print(regressor.score(X,y))\n",
    "    return regressor"
   ]
  },
  {
   "cell_type": "code",
   "execution_count": 59,
   "metadata": {},
   "outputs": [],
   "source": [
    "rf = RandomForestRegressor(n_estimators=50, max_depth=2)\n",
    "xgb = XGBRegressor( learning_rate=1, n_estimators=50)"
   ]
  },
  {
   "cell_type": "code",
   "execution_count": 60,
   "metadata": {},
   "outputs": [
    {
     "name": "stdout",
     "output_type": "stream",
     "text": [
      "[9.80160838e-01 1.93156233e-06 1.06867409e-02 9.15048972e-03\n",
      " 0.00000000e+00]\n",
      "0.4635449307920916\n"
     ]
    }
   ],
   "source": [
    "rf = train_regressor(rf, X, y)"
   ]
  },
  {
   "cell_type": "code",
   "execution_count": 61,
   "metadata": {},
   "outputs": [
    {
     "name": "stdout",
     "output_type": "stream",
     "text": [
      "[0.37463978 0.06051873 0.4755043  0.06628242 0.02305475]\n",
      "0.9610054527204551\n"
     ]
    }
   ],
   "source": [
    "xgb = train_regressor(xgb, X, y)"
   ]
  },
  {
   "cell_type": "code",
   "execution_count": null,
   "metadata": {},
   "outputs": [],
   "source": []
  },
  {
   "cell_type": "code",
   "execution_count": 62,
   "metadata": {},
   "outputs": [],
   "source": [
    "y_pred = xgb.predict(X)"
   ]
  },
  {
   "cell_type": "code",
   "execution_count": 63,
   "metadata": {},
   "outputs": [],
   "source": [
    "t_df[\"pred\"] = list(map(lambda x: max(x,0), y_pred))"
   ]
  },
  {
   "cell_type": "code",
   "execution_count": 64,
   "metadata": {},
   "outputs": [
    {
     "data": {
      "text/plain": [
       "['Cat01', 'Cat02', 'Cat03', 'Cat04', 'Cat07', 'Cat08']"
      ]
     },
     "execution_count": 64,
     "metadata": {},
     "output_type": "execute_result"
    }
   ],
   "source": [
    "categories = df[\"Category\"].unique().tolist()\n",
    "categories.sort()\n",
    "categories"
   ]
  },
  {
   "cell_type": "code",
   "execution_count": 65,
   "metadata": {},
   "outputs": [
    {
     "data": {
      "text/html": [
       "<div>\n",
       "<style scoped>\n",
       "    .dataframe tbody tr th:only-of-type {\n",
       "        vertical-align: middle;\n",
       "    }\n",
       "\n",
       "    .dataframe tbody tr th {\n",
       "        vertical-align: top;\n",
       "    }\n",
       "\n",
       "    .dataframe thead th {\n",
       "        text-align: right;\n",
       "    }\n",
       "</style>\n",
       "<table border=\"1\" class=\"dataframe\">\n",
       "  <thead>\n",
       "    <tr style=\"text-align: right;\">\n",
       "      <th></th>\n",
       "      <th>Category</th>\n",
       "      <th>year</th>\n",
       "      <th>week</th>\n",
       "      <th>month</th>\n",
       "      <th>season</th>\n",
       "      <th>weekly_discount</th>\n",
       "      <th>qty sold</th>\n",
       "      <th>previous_week_sale</th>\n",
       "      <th>pred</th>\n",
       "    </tr>\n",
       "  </thead>\n",
       "  <tbody>\n",
       "    <tr>\n",
       "      <th>0</th>\n",
       "      <td>0</td>\n",
       "      <td>2017</td>\n",
       "      <td>1</td>\n",
       "      <td>1</td>\n",
       "      <td>0</td>\n",
       "      <td>0.000000</td>\n",
       "      <td>31</td>\n",
       "      <td>0.0</td>\n",
       "      <td>37.408577</td>\n",
       "    </tr>\n",
       "    <tr>\n",
       "      <th>1</th>\n",
       "      <td>0</td>\n",
       "      <td>2017</td>\n",
       "      <td>2</td>\n",
       "      <td>1</td>\n",
       "      <td>0</td>\n",
       "      <td>7.894217</td>\n",
       "      <td>55</td>\n",
       "      <td>31.0</td>\n",
       "      <td>51.755486</td>\n",
       "    </tr>\n",
       "    <tr>\n",
       "      <th>2</th>\n",
       "      <td>0</td>\n",
       "      <td>2017</td>\n",
       "      <td>3</td>\n",
       "      <td>1</td>\n",
       "      <td>0</td>\n",
       "      <td>0.000000</td>\n",
       "      <td>71</td>\n",
       "      <td>55.0</td>\n",
       "      <td>58.666893</td>\n",
       "    </tr>\n",
       "    <tr>\n",
       "      <th>3</th>\n",
       "      <td>0</td>\n",
       "      <td>2017</td>\n",
       "      <td>4</td>\n",
       "      <td>1</td>\n",
       "      <td>0</td>\n",
       "      <td>0.000000</td>\n",
       "      <td>48</td>\n",
       "      <td>71.0</td>\n",
       "      <td>40.554668</td>\n",
       "    </tr>\n",
       "    <tr>\n",
       "      <th>4</th>\n",
       "      <td>0</td>\n",
       "      <td>2017</td>\n",
       "      <td>5</td>\n",
       "      <td>2</td>\n",
       "      <td>0</td>\n",
       "      <td>0.000000</td>\n",
       "      <td>36</td>\n",
       "      <td>48.0</td>\n",
       "      <td>28.276741</td>\n",
       "    </tr>\n",
       "  </tbody>\n",
       "</table>\n",
       "</div>"
      ],
      "text/plain": [
       "  Category  year week month season  weekly_discount  qty sold  \\\n",
       "0        0  2017    1     1      0         0.000000        31   \n",
       "1        0  2017    2     1      0         7.894217        55   \n",
       "2        0  2017    3     1      0         0.000000        71   \n",
       "3        0  2017    4     1      0         0.000000        48   \n",
       "4        0  2017    5     2      0         0.000000        36   \n",
       "\n",
       "   previous_week_sale       pred  \n",
       "0                 0.0  37.408577  \n",
       "1                31.0  51.755486  \n",
       "2                55.0  58.666893  \n",
       "3                71.0  40.554668  \n",
       "4                48.0  28.276741  "
      ]
     },
     "execution_count": 65,
     "metadata": {},
     "output_type": "execute_result"
    }
   ],
   "source": [
    "t_df.head()"
   ]
  },
  {
   "cell_type": "code",
   "execution_count": 66,
   "metadata": {},
   "outputs": [],
   "source": [
    "t_df[\"residue\"] = t_df[\"qty sold\"] - t_df[\"pred\"]"
   ]
  },
  {
   "cell_type": "code",
   "execution_count": 67,
   "metadata": {},
   "outputs": [
    {
     "data": {
      "text/plain": [
       "<matplotlib.legend.Legend at 0x166f8ef2ba8>"
      ]
     },
     "execution_count": 67,
     "metadata": {},
     "output_type": "execute_result"
    },
    {
     "data": {
      "image/png": "[encoded data removed]",
      "text/plain": [
       "<Figure size 1296x216 with 6 Axes>"
      ]
     },
     "metadata": {
      "needs_background": "light"
     },
     "output_type": "display_data"
    },
    {
     "data": {
      "image/png": "[encoded data removed]",
      "text/plain": [
       "<Figure size 1296x216 with 6 Axes>"
      ]
     },
     "metadata": {
      "needs_background": "light"
     },
     "output_type": "display_data"
    },
    {
     "data": {
      "image/png": "[encoded data removed]",
      "text/plain": [
       "<Figure size 1296x216 with 6 Axes>"
      ]
     },
     "metadata": {
      "needs_background": "light"
     },
     "output_type": "display_data"
    },
    {
     "data": {
      "image/png": "[encoded data removed]",
      "text/plain": [
       "<Figure size 1296x216 with 6 Axes>"
      ]
     },
     "metadata": {
      "needs_background": "light"
     },
     "output_type": "display_data"
    }
   ],
   "source": [
    "g = sns.FacetGrid(t_df, col=\"Category\", hue=\"year\", margin_titles=True)\n",
    "g.map(plt.bar, \"week\", \"qty sold\")\n",
    "g.fig.suptitle(\"Actual Sales Qty\")\n",
    "\n",
    "g = sns.FacetGrid(t_df, col=\"Category\", hue=\"year\", margin_titles=True)\n",
    "g.map(plt.bar, \"week\", \"pred\")\n",
    "g.fig.suptitle(\"Predicted Sales Qty\")\n",
    "plt.legend()\n",
    "\n",
    "g = sns.FacetGrid(t_df, col=\"Category\", hue=\"year\", margin_titles=True)\n",
    "g.map(plt.bar, \"week\", \"residue\")\n",
    "g.fig.suptitle(\"Residue\")\n",
    "plt.legend()\n",
    "\n",
    "\n",
    "g = sns.FacetGrid(t_df, col=\"Category\", hue=\"year\", margin_titles=True)\n",
    "g.map(plt.bar, \"week\", \"weekly_discount\")\n",
    "g.fig.suptitle(\"Discount\")\n",
    "plt.legend()"
   ]
  },
  {
   "cell_type": "markdown",
   "metadata": {},
   "source": [
    "##### NOTE: Residues can't be explained by discount"
   ]
  },
  {
   "cell_type": "code",
   "execution_count": null,
   "metadata": {},
   "outputs": [],
   "source": []
  },
  {
   "cell_type": "code",
   "execution_count": 39,
   "metadata": {},
   "outputs": [
    {
     "name": "stdout",
     "output_type": "stream",
     "text": [
      "(283, 5)\n"
     ]
    },
    {
     "name": "stderr",
     "output_type": "stream",
     "text": [
      "D:\\Anaconda\\envs\\py36\\lib\\site-packages\\ipykernel_launcher.py:2: SettingWithCopyWarning: \n",
      "A value is trying to be set on a copy of a slice from a DataFrame.\n",
      "Try using .loc[row_indexer,col_indexer] = value instead\n",
      "\n",
      "See the caveats in the documentation: http://pandas.pydata.org/pandas-docs/stable/indexing.html#indexing-view-versus-copy\n",
      "  \n"
     ]
    },
    {
     "data": {
      "text/plain": [
       "(283, 5)"
      ]
     },
     "execution_count": 39,
     "metadata": {},
     "output_type": "execute_result"
    }
   ],
   "source": [
    "forecast_df = t_df[t_df[\"year\"]==2017]\n",
    "forecast_df[\"year\"] = 2018\n",
    "forecast_df = forecast_df.append(t_df[t_df[\"year\"]==2018])\n",
    "forecast_df = forecast_df[features]\n",
    "print(forecast_df.shape)\n",
    "forecast_df.drop_duplicates()\n",
    "forecast_df.shape"
   ]
  },
  {
   "cell_type": "code",
   "execution_count": 40,
   "metadata": {},
   "outputs": [],
   "source": [
    "forecast_df[\"pred\"] = xgb.predict(np.array(forecast_df.values))\n",
    "forecast_df[\"pred\"] = forecast_df[\"pred\"].apply(lambda x: max(0,x))"
   ]
  },
  {
   "cell_type": "markdown",
   "metadata": {},
   "source": [
    "#### Next year Forecast"
   ]
  },
  {
   "cell_type": "code",
   "execution_count": 42,
   "metadata": {
    "scrolled": true
   },
   "outputs": [
    {
     "data": {
      "text/plain": [
       "<matplotlib.legend.Legend at 0x166f5f05438>"
      ]
     },
     "execution_count": 42,
     "metadata": {},
     "output_type": "execute_result"
    },
    {
     "data": {
      "image/png": "[encoded data removed]",
      "text/plain": [
       "<Figure size 1296x216 with 6 Axes>"
      ]
     },
     "metadata": {
      "needs_background": "light"
     },
     "output_type": "display_data"
    }
   ],
   "source": [
    "g = sns.FacetGrid(forecast_df, col=\"Category\", hue=\"year\", margin_titles=True)\n",
    "g.map(plt.bar, \"week\", \"pred\")\n",
    "g.fig.suptitle(\"Next year Forecast at zero discount\")\n",
    "plt.legend()"
   ]
  },
  {
   "cell_type": "code",
   "execution_count": null,
   "metadata": {},
   "outputs": [],
   "source": []
  },
  {
   "cell_type": "code",
   "execution_count": null,
   "metadata": {
    "scrolled": false
   },
   "outputs": [],
   "source": []
  }
 ],
 "metadata": {
  "kernelspec": {
   "display_name": "Python 3",
   "language": "python",
   "name": "python3"
  },
  "language_info": {
   "codemirror_mode": {
    "name": "ipython",
    "version": 3
   },
   "file_extension": ".py",
   "mimetype": "text/x-python",
   "name": "python",
   "nbconvert_exporter": "python",
   "pygments_lexer": "ipython3",
   "version": "3.6.7"
  }
 },
 "nbformat": 4,
 "nbformat_minor": 2
}
