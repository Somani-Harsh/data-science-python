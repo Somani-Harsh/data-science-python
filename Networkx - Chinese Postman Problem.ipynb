{
 "cells": [
  {
   "cell_type": "markdown",
   "metadata": {},
   "source": [
    "<h1> Introducing Graphs  </h1>"
   ]
  },
  {
   "cell_type": "code",
   "execution_count": 47,
   "metadata": {},
   "outputs": [],
   "source": [
    "import networkx as nx\n",
    "import pandas as pd\n",
    "import numpy as np\n",
    "import pandas as pd\n",
    "from matplotlib import pyplot as plt"
   ]
  },
  {
   "cell_type": "code",
   "execution_count": 3,
   "metadata": {},
   "outputs": [],
   "source": [
    "edgelist = pd.read_csv('https://gist.githubusercontent.com/brooksandrew/e570c38bcc72a8d102422f2af836513b/raw/89c76b2563dbc0e88384719a35cba0dfc04cd522/edgelist_sleeping_giant.csv') \n"
   ]
  },
  {
   "cell_type": "code",
   "execution_count": 4,
   "metadata": {},
   "outputs": [
    {
     "data": {
      "text/html": [
       "<div>\n",
       "<style scoped>\n",
       "    .dataframe tbody tr th:only-of-type {\n",
       "        vertical-align: middle;\n",
       "    }\n",
       "\n",
       "    .dataframe tbody tr th {\n",
       "        vertical-align: top;\n",
       "    }\n",
       "\n",
       "    .dataframe thead th {\n",
       "        text-align: right;\n",
       "    }\n",
       "</style>\n",
       "<table border=\"1\" class=\"dataframe\">\n",
       "  <thead>\n",
       "    <tr style=\"text-align: right;\">\n",
       "      <th></th>\n",
       "      <th>node1</th>\n",
       "      <th>node2</th>\n",
       "      <th>trail</th>\n",
       "      <th>distance</th>\n",
       "      <th>color</th>\n",
       "      <th>estimate</th>\n",
       "    </tr>\n",
       "  </thead>\n",
       "  <tbody>\n",
       "    <tr>\n",
       "      <th>0</th>\n",
       "      <td>rs_end_north</td>\n",
       "      <td>v_rs</td>\n",
       "      <td>rs</td>\n",
       "      <td>0.30</td>\n",
       "      <td>red</td>\n",
       "      <td>0</td>\n",
       "    </tr>\n",
       "    <tr>\n",
       "      <th>1</th>\n",
       "      <td>v_rs</td>\n",
       "      <td>b_rs</td>\n",
       "      <td>rs</td>\n",
       "      <td>0.21</td>\n",
       "      <td>red</td>\n",
       "      <td>0</td>\n",
       "    </tr>\n",
       "    <tr>\n",
       "      <th>2</th>\n",
       "      <td>b_rs</td>\n",
       "      <td>g_rs</td>\n",
       "      <td>rs</td>\n",
       "      <td>0.11</td>\n",
       "      <td>red</td>\n",
       "      <td>0</td>\n",
       "    </tr>\n",
       "    <tr>\n",
       "      <th>3</th>\n",
       "      <td>g_rs</td>\n",
       "      <td>w_rs</td>\n",
       "      <td>rs</td>\n",
       "      <td>0.18</td>\n",
       "      <td>red</td>\n",
       "      <td>0</td>\n",
       "    </tr>\n",
       "    <tr>\n",
       "      <th>4</th>\n",
       "      <td>w_rs</td>\n",
       "      <td>o_rs</td>\n",
       "      <td>rs</td>\n",
       "      <td>0.21</td>\n",
       "      <td>red</td>\n",
       "      <td>0</td>\n",
       "    </tr>\n",
       "    <tr>\n",
       "      <th>5</th>\n",
       "      <td>o_rs</td>\n",
       "      <td>y_rs</td>\n",
       "      <td>rs</td>\n",
       "      <td>0.12</td>\n",
       "      <td>red</td>\n",
       "      <td>0</td>\n",
       "    </tr>\n",
       "    <tr>\n",
       "      <th>6</th>\n",
       "      <td>y_rs</td>\n",
       "      <td>rs_end_south</td>\n",
       "      <td>rs</td>\n",
       "      <td>0.39</td>\n",
       "      <td>red</td>\n",
       "      <td>0</td>\n",
       "    </tr>\n",
       "    <tr>\n",
       "      <th>7</th>\n",
       "      <td>rc_end_north</td>\n",
       "      <td>v_rc</td>\n",
       "      <td>rc</td>\n",
       "      <td>0.70</td>\n",
       "      <td>red</td>\n",
       "      <td>0</td>\n",
       "    </tr>\n",
       "    <tr>\n",
       "      <th>8</th>\n",
       "      <td>v_rc</td>\n",
       "      <td>b_rc</td>\n",
       "      <td>rc</td>\n",
       "      <td>0.04</td>\n",
       "      <td>red</td>\n",
       "      <td>0</td>\n",
       "    </tr>\n",
       "    <tr>\n",
       "      <th>9</th>\n",
       "      <td>b_rc</td>\n",
       "      <td>g_rc</td>\n",
       "      <td>rc</td>\n",
       "      <td>0.15</td>\n",
       "      <td>red</td>\n",
       "      <td>0</td>\n",
       "    </tr>\n",
       "  </tbody>\n",
       "</table>\n",
       "</div>"
      ],
      "text/plain": [
       "          node1         node2 trail  distance color  estimate\n",
       "0  rs_end_north          v_rs    rs      0.30   red         0\n",
       "1          v_rs          b_rs    rs      0.21   red         0\n",
       "2          b_rs          g_rs    rs      0.11   red         0\n",
       "3          g_rs          w_rs    rs      0.18   red         0\n",
       "4          w_rs          o_rs    rs      0.21   red         0\n",
       "5          o_rs          y_rs    rs      0.12   red         0\n",
       "6          y_rs  rs_end_south    rs      0.39   red         0\n",
       "7  rc_end_north          v_rc    rc      0.70   red         0\n",
       "8          v_rc          b_rc    rc      0.04   red         0\n",
       "9          b_rc          g_rc    rc      0.15   red         0"
      ]
     },
     "execution_count": 4,
     "metadata": {},
     "output_type": "execute_result"
    }
   ],
   "source": [
    "edgelist.head(10)"
   ]
  },
  {
   "cell_type": "code",
   "execution_count": 5,
   "metadata": {},
   "outputs": [],
   "source": [
    "nodelist = pd.read_csv('https://gist.githubusercontent.com/brooksandrew/f989e10af17fb4c85b11409fea47895b/raw/a3a8da0fa5b094f1ca9d82e1642b384889ae16e8/nodelist_sleeping_giant.csv')"
   ]
  },
  {
   "cell_type": "code",
   "execution_count": 6,
   "metadata": {},
   "outputs": [
    {
     "data": {
      "text/html": [
       "<div>\n",
       "<style scoped>\n",
       "    .dataframe tbody tr th:only-of-type {\n",
       "        vertical-align: middle;\n",
       "    }\n",
       "\n",
       "    .dataframe tbody tr th {\n",
       "        vertical-align: top;\n",
       "    }\n",
       "\n",
       "    .dataframe thead th {\n",
       "        text-align: right;\n",
       "    }\n",
       "</style>\n",
       "<table border=\"1\" class=\"dataframe\">\n",
       "  <thead>\n",
       "    <tr style=\"text-align: right;\">\n",
       "      <th></th>\n",
       "      <th>id</th>\n",
       "      <th>X</th>\n",
       "      <th>Y</th>\n",
       "    </tr>\n",
       "  </thead>\n",
       "  <tbody>\n",
       "    <tr>\n",
       "      <th>0</th>\n",
       "      <td>b_bv</td>\n",
       "      <td>1486</td>\n",
       "      <td>732</td>\n",
       "    </tr>\n",
       "    <tr>\n",
       "      <th>1</th>\n",
       "      <td>b_bw</td>\n",
       "      <td>716</td>\n",
       "      <td>1357</td>\n",
       "    </tr>\n",
       "    <tr>\n",
       "      <th>2</th>\n",
       "      <td>b_end_east</td>\n",
       "      <td>3164</td>\n",
       "      <td>1111</td>\n",
       "    </tr>\n",
       "    <tr>\n",
       "      <th>3</th>\n",
       "      <td>b_end_west</td>\n",
       "      <td>141</td>\n",
       "      <td>1938</td>\n",
       "    </tr>\n",
       "    <tr>\n",
       "      <th>4</th>\n",
       "      <td>b_g</td>\n",
       "      <td>1725</td>\n",
       "      <td>771</td>\n",
       "    </tr>\n",
       "    <tr>\n",
       "      <th>5</th>\n",
       "      <td>b_gy2</td>\n",
       "      <td>2000</td>\n",
       "      <td>983</td>\n",
       "    </tr>\n",
       "    <tr>\n",
       "      <th>6</th>\n",
       "      <td>b_o</td>\n",
       "      <td>2039</td>\n",
       "      <td>1012</td>\n",
       "    </tr>\n",
       "    <tr>\n",
       "      <th>7</th>\n",
       "      <td>b_rc</td>\n",
       "      <td>1311</td>\n",
       "      <td>979</td>\n",
       "    </tr>\n",
       "    <tr>\n",
       "      <th>8</th>\n",
       "      <td>b_rd</td>\n",
       "      <td>268</td>\n",
       "      <td>1744</td>\n",
       "    </tr>\n",
       "    <tr>\n",
       "      <th>9</th>\n",
       "      <td>b_rd_dupe</td>\n",
       "      <td>268</td>\n",
       "      <td>1744</td>\n",
       "    </tr>\n",
       "  </tbody>\n",
       "</table>\n",
       "</div>"
      ],
      "text/plain": [
       "           id     X     Y\n",
       "0        b_bv  1486   732\n",
       "1        b_bw   716  1357\n",
       "2  b_end_east  3164  1111\n",
       "3  b_end_west   141  1938\n",
       "4         b_g  1725   771\n",
       "5       b_gy2  2000   983\n",
       "6         b_o  2039  1012\n",
       "7        b_rc  1311   979\n",
       "8        b_rd   268  1744\n",
       "9   b_rd_dupe   268  1744"
      ]
     },
     "execution_count": 6,
     "metadata": {},
     "output_type": "execute_result"
    }
   ],
   "source": [
    "nodelist.head(10)"
   ]
  },
  {
   "cell_type": "code",
   "execution_count": null,
   "metadata": {},
   "outputs": [],
   "source": []
  },
  {
   "cell_type": "code",
   "execution_count": 27,
   "metadata": {},
   "outputs": [],
   "source": [
    "graph = nx.Graph()"
   ]
  },
  {
   "cell_type": "code",
   "execution_count": 28,
   "metadata": {},
   "outputs": [],
   "source": [
    "for idx, row in edgelist.iterrows():\n",
    "    graph.add_edge(row[0], row[1], **row[2:].to_dict())"
   ]
  },
  {
   "cell_type": "code",
   "execution_count": 40,
   "metadata": {},
   "outputs": [
    {
     "data": {
      "text/plain": [
       "[('rs_end_north',\n",
       "  'v_rs',\n",
       "  {'color': 'red', 'distance': 0.3, 'estimate': 0, 'trail': 'rs'}),\n",
       " ('v_rs',\n",
       "  'b_rs',\n",
       "  {'color': 'red', 'distance': 0.21, 'estimate': 0, 'trail': 'rs'}),\n",
       " ('v_rs',\n",
       "  'v_bv',\n",
       "  {'color': 'violet', 'distance': 0.52, 'estimate': 0, 'trail': 'v'}),\n",
       " ('v_rs',\n",
       "  'v_end_east',\n",
       "  {'color': 'violet', 'distance': 0.54, 'estimate': 0, 'trail': 'v'}),\n",
       " ('b_rs',\n",
       "  'g_rs',\n",
       "  {'color': 'red', 'distance': 0.11, 'estimate': 0, 'trail': 'rs'}),\n",
       " ('b_rs',\n",
       "  'b_bv',\n",
       "  {'color': 'blue', 'distance': 0.43, 'estimate': 0, 'trail': 'b'}),\n",
       " ('b_rs',\n",
       "  'b_g',\n",
       "  {'color': 'blue', 'distance': 0.07, 'estimate': 0, 'trail': 'b'}),\n",
       " ('g_rs',\n",
       "  'w_rs',\n",
       "  {'color': 'red', 'distance': 0.18, 'estimate': 0, 'trail': 'rs'}),\n",
       " ('g_rs',\n",
       "  'g_rc',\n",
       "  {'color': 'green', 'distance': 0.45, 'estimate': 0, 'trail': 'g'}),\n",
       " ('g_rs',\n",
       "  'b_g',\n",
       "  {'color': 'green', 'distance': 0.05, 'estimate': 1, 'trail': 'g'})]"
      ]
     },
     "execution_count": 40,
     "metadata": {},
     "output_type": "execute_result"
    }
   ],
   "source": [
    "list(graph.edges(data=True))[:10]"
   ]
  },
  {
   "cell_type": "code",
   "execution_count": null,
   "metadata": {},
   "outputs": [],
   "source": []
  },
  {
   "cell_type": "code",
   "execution_count": 31,
   "metadata": {},
   "outputs": [],
   "source": [
    "for idx, row in nodelist.iterrows():\n",
    "    nx.set_node_attributes(graph, {row[0] : row[1:].to_dict()})"
   ]
  },
  {
   "cell_type": "code",
   "execution_count": 41,
   "metadata": {},
   "outputs": [
    {
     "data": {
      "text/plain": [
       "array([['rs_end_north', {'X': 1772, 'Y': 172}],\n",
       "       ['v_rs', {'X': 1793, 'Y': 484}],\n",
       "       ['b_rs', {'X': 1747, 'Y': 700}],\n",
       "       ['g_rs', {'X': 1676, 'Y': 775}],\n",
       "       ['w_rs', {'X': 1646, 'Y': 947}],\n",
       "       ['o_rs', {'X': 1724, 'Y': 1148}],\n",
       "       ['y_rs', {'X': 1805, 'Y': 1246}],\n",
       "       ['rs_end_south', {'X': 1865, 'Y': 1598}],\n",
       "       ['rc_end_north', {'X': 867, 'Y': 618}],\n",
       "       ['v_rc', {'X': 1288, 'Y': 934}]], dtype=object)"
      ]
     },
     "execution_count": 41,
     "metadata": {},
     "output_type": "execute_result"
    }
   ],
   "source": [
    "np.array(graph.nodes(data=True))[:10]"
   ]
  },
  {
   "cell_type": "code",
   "execution_count": 43,
   "metadata": {},
   "outputs": [
    {
     "name": "stdout",
     "output_type": "stream",
     "text": [
      "# of edges: 123\n",
      "# of nodes: 77\n"
     ]
    }
   ],
   "source": [
    "print('# of edges: {}'.format(graph.number_of_edges()))\n",
    "print('# of nodes: {}'.format(graph.number_of_nodes()))"
   ]
  },
  {
   "cell_type": "code",
   "execution_count": 44,
   "metadata": {},
   "outputs": [],
   "source": [
    "node_positions = {node[0]: (node[1]['X'], -node[1]['Y']) for node in graph.nodes(data=True)}"
   ]
  },
  {
   "cell_type": "code",
   "execution_count": 45,
   "metadata": {},
   "outputs": [],
   "source": [
    "edge_colors = [e[2]['color'] for e in list(graph.edges(data=True))]"
   ]
  },
  {
   "cell_type": "code",
   "execution_count": 49,
   "metadata": {},
   "outputs": [
    {
     "data": {
      "image/png": "[encoded data removed]",
      "text/plain": [
       "<matplotlib.figure.Figure at 0x23fe8a9ecc0>"
      ]
     },
     "metadata": {},
     "output_type": "display_data"
    }
   ],
   "source": [
    "plt.figure(figsize=(8, 6))\n",
    "nx.draw(graph, pos=node_positions, edge_color=edge_colors, node_size=10, node_color='black')\n",
    "plt.title('Graph Representation of Map', size=15)\n",
    "plt.show()"
   ]
  },
  {
   "cell_type": "code",
   "execution_count": null,
   "metadata": {},
   "outputs": [],
   "source": []
  }
 ],
 "metadata": {
  "kernelspec": {
   "display_name": "Python 3",
   "language": "python",
   "name": "python3"
  },
  "language_info": {
   "codemirror_mode": {
    "name": "ipython",
    "version": 3
   },
   "file_extension": ".py",
   "mimetype": "text/x-python",
   "name": "python",
   "nbconvert_exporter": "python",
   "pygments_lexer": "ipython3",
   "version": "3.6.4"
  }
 },
 "nbformat": 4,
 "nbformat_minor": 2
}
