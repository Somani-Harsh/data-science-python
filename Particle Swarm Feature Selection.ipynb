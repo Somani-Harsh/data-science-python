{
 "cells": [
  {
   "cell_type": "code",
   "execution_count": 1,
   "metadata": {},
   "outputs": [],
   "source": [
    "from multiprocessing.dummy import Pool as ThreadPool\n",
    "import numpy as np\n",
    "import pandas as pd\n",
    "import pickle\n",
    "import pandas as pd\n",
    "from sklearn.model_selection import KFold\n",
    "from sklearn.metrics import roc_curve, auc\n",
    "import tqdm\n",
    "\n",
    "from sklearn.linear_model import LogisticRegression\n",
    "from sklearn.ensemble import RandomForestClassifier\n",
    "from sklearn.svm import SVC\n",
    "\n",
    "import seaborn as sns\n",
    "import pyswarms as ps\n",
    "from matplotlib import pyplot as plt"
   ]
  },
  {
   "cell_type": "code",
   "execution_count": 2,
   "metadata": {},
   "outputs": [],
   "source": [
    "import warnings\n",
    "warnings.filterwarnings('ignore')"
   ]
  },
  {
   "cell_type": "code",
   "execution_count": 3,
   "metadata": {},
   "outputs": [],
   "source": [
    "import zipfile\n",
    "\n",
    "zf = zipfile.ZipFile('./data/train.csv.zip') \n",
    "train_df = pd.read_csv(zf.open('train.csv'))\n",
    "\n",
    "y_train = train_df[\"TARGET\"]\n",
    "x_train = train_df.drop(\"TARGET\", axis=1).values"
   ]
  },
  {
   "cell_type": "code",
   "execution_count": 4,
   "metadata": {},
   "outputs": [
    {
     "data": {
      "text/plain": [
       "0.9604314654038411"
      ]
     },
     "execution_count": 4,
     "metadata": {},
     "output_type": "execute_result"
    }
   ],
   "source": [
    "classifier = LogisticRegression()\n",
    "classifier.fit(x_train, y_train)\n",
    "classifier.score(x_train, y_train)"
   ]
  },
  {
   "cell_type": "code",
   "execution_count": null,
   "metadata": {},
   "outputs": [],
   "source": []
  },
  {
   "cell_type": "code",
   "execution_count": 5,
   "metadata": {},
   "outputs": [],
   "source": [
    "from sklearn.linear_model import LogisticRegression\n",
    "\n",
    "classifier = LogisticRegression()\n",
    "\n",
    "def f_per_particle(m, alpha):\n",
    "    total_features = 100\n",
    "    \n",
    "    if np.count_nonzero(m) == 0:\n",
    "        x_subset = x_train\n",
    "    else:\n",
    "        x_subset = x_train[:,m==1]\n",
    "        \n",
    "    classifier.fit(x_subset, y_train)\n",
    "    p = classifier.score(x_subset,y_train)\n",
    "\n",
    "    j = (alpha * (1.0-p) + (1.0 - alpha)*(1-(x_subset.shape[1]/total_features)))\n",
    "    \n",
    "    return j"
   ]
  },
  {
   "cell_type": "code",
   "execution_count": 6,
   "metadata": {},
   "outputs": [],
   "source": [
    "def f(x, alpha=0.88):\n",
    "    n_particles = x.shape[0]\n",
    "    return np.array([f_per_particle(x[i], alpha) for i in range(n_particles)])"
   ]
  },
  {
   "cell_type": "code",
   "execution_count": 8,
   "metadata": {},
   "outputs": [
    {
     "name": "stderr",
     "output_type": "stream",
     "text": [
      "2019-02-16 14:23:13,301 - pyswarms.discrete.binary - INFO - Optimize for 3 iters with {'c1': 0.5, 'c2': 0.5, 'w': 0.9, 'k': 30, 'p': 2}\n",
      "\n",
      "pyswarms.discrete.binary:   0%|                                                                                    |0/3\n",
      "pyswarms.discrete.binary:   0%|                                                                  |0/3, best_cost=-0.084\n",
      "pyswarms.discrete.binary:  33%|██████████████████████                                            |1/3, best_cost=-0.084\n",
      "pyswarms.discrete.binary:  33%|██████████████████████                                            |1/3, best_cost=-0.118\n",
      "pyswarms.discrete.binary:  67%|████████████████████████████████████████████                      |2/3, best_cost=-0.118\n",
      "pyswarms.discrete.binary:  67%|████████████████████████████████████████████                      |2/3, best_cost=-0.124\n",
      "pyswarms.discrete.binary: 100%|██████████████████████████████████████████████████████████████████|3/3, best_cost=-0.124\n",
      "2019-02-16 14:37:12,317 - pyswarms.discrete.binary - INFO - Optimization finished | best cost: -0.12357968955538012, best pos: [[0 1 0 ... 1 1 1]\n",
      " [0 1 0 ... 1 1 1]\n",
      " [0 1 0 ... 1 1 1]\n",
      " ...\n",
      " [0 1 0 ... 1 1 1]\n",
      " [0 1 0 ... 1 1 1]\n",
      " [0 1 0 ... 1 1 1]]\n"
     ]
    }
   ],
   "source": [
    "options = {\"c1\":0.5,\n",
    "          \"c2\":0.5,\n",
    "          \"w\":0.9,\n",
    "          \"k\":30,\n",
    "          \"p\":2}\n",
    "\n",
    "dimensions = 370\n",
    "optimizer = ps.discrete.BinaryPSO(n_particles=30, dimensions=dimensions, options=options)\n",
    "\n",
    "cost, pos = optimizer.optimize(f, iters=3)"
   ]
  },
  {
   "cell_type": "code",
   "execution_count": 9,
   "metadata": {},
   "outputs": [
    {
     "data": {
      "text/plain": [
       "array([[0, 1, 0, ..., 1, 1, 1],\n",
       "       [0, 1, 0, ..., 1, 1, 1],\n",
       "       [0, 1, 0, ..., 1, 1, 1],\n",
       "       ...,\n",
       "       [0, 1, 0, ..., 1, 1, 1],\n",
       "       [0, 1, 0, ..., 1, 1, 1],\n",
       "       [0, 1, 0, ..., 1, 1, 1]])"
      ]
     },
     "execution_count": 9,
     "metadata": {},
     "output_type": "execute_result"
    }
   ],
   "source": [
    "pos"
   ]
  },
  {
   "cell_type": "code",
   "execution_count": 10,
   "metadata": {},
   "outputs": [
    {
     "data": {
      "text/plain": [
       "0.9604314654038411"
      ]
     },
     "execution_count": 10,
     "metadata": {},
     "output_type": "execute_result"
    }
   ],
   "source": [
    "classifier = LogisticRegression()\n",
    "\n",
    "x_selected_features = x_train[:, pos[0]==1]\n",
    "classifier.fit(x_selected_features, y_train)\n",
    "classifier.score(x_selected_features, y_train)"
   ]
  },
  {
   "cell_type": "code",
   "execution_count": 11,
   "metadata": {},
   "outputs": [
    {
     "data": {
      "text/plain": [
       "(76020, 232)"
      ]
     },
     "execution_count": 11,
     "metadata": {},
     "output_type": "execute_result"
    }
   ],
   "source": [
    "x_selected_features.shape"
   ]
  },
  {
   "cell_type": "code",
   "execution_count": null,
   "metadata": {},
   "outputs": [],
   "source": []
  }
 ],
 "metadata": {
  "kernelspec": {
   "display_name": "py36",
   "language": "python",
   "name": "py36"
  },
  "language_info": {
   "codemirror_mode": {
    "name": "ipython",
    "version": 3
   },
   "file_extension": ".py",
   "mimetype": "text/x-python",
   "name": "python",
   "nbconvert_exporter": "python",
   "pygments_lexer": "ipython3",
   "version": "3.6.7"
  }
 },
 "nbformat": 4,
 "nbformat_minor": 2
}
