{
  "nbformat": 4,
  "nbformat_minor": 0,
  "metadata": {
    "colab": {
      "name": "Analysis and prediction model",
      "provenance": [],
      "collapsed_sections": [],
      "mount_file_id": "1v6tS3ECGah_Fqu-P7FdTQWZmBFuPJGwg",
      "authorship_tag": "ABX9TyP5cuQA0UzC99dgJI4RTRUl",
      "include_colab_link": true
    },
    "kernelspec": {
      "name": "python3",
      "display_name": "Python 3"
    }
  },
  "cells": [
    {
      "cell_type": "markdown",
      "metadata": {
        "id": "view-in-github",
        "colab_type": "text"
      },
      "source": [
        "<a href=\"https://colab.research.google.com/github/Somani-Harsh/data-science-python/blob/master/Analysis_and_activity_prediction_model_for_mobile_app_user.ipynb\" target=\"_parent\"><img src=\"https://colab.research.google.com/assets/colab-badge.svg\" alt=\"Open In Colab\"/></a>"
      ]
    },
    {
      "cell_type": "code",
      "metadata": {
        "id": "HDfS1kqLvlFb",
        "colab_type": "code",
        "colab": {
          "base_uri": "https://localhost:8080/",
          "height": 54
        },
        "outputId": "6d28cb22-271b-4eaf-9614-b18cc64d9fb0"
      },
      "source": [
        "from google.colab import drive\n",
        "\n",
        "drive.mount('/content/drive')"
      ],
      "execution_count": 4,
      "outputs": [
        {
          "output_type": "stream",
          "text": [
            "Drive already mounted at /content/drive; to attempt to forcibly remount, call drive.mount(\"/content/drive\", force_remount=True).\n"
          ],
          "name": "stdout"
        }
      ]
    },
    {
      "cell_type": "code",
      "metadata": {
        "id": "HA0XLUTTvX2w",
        "colab_type": "code",
        "colab": {}
      },
      "source": [
        "import pandas as pd\n",
        "import numpy as np\n",
        "import io\n",
        "from sklearn.mixture import GaussianMixture\n",
        "import seaborn as sns\n",
        "import matplotlib.pyplot as plt\n",
        "import datetime\n",
        "from collections import Counter"
      ],
      "execution_count": 714,
      "outputs": []
    },
    {
      "cell_type": "markdown",
      "metadata": {
        "id": "oMtW5JV0yozh",
        "colab_type": "text"
      },
      "source": [
        "**Read File and Preprocess**"
      ]
    },
    {
      "cell_type": "code",
      "metadata": {
        "id": "-ztREddgv_ba",
        "colab_type": "code",
        "colab": {}
      },
      "source": [
        "master_df = pd.read_excel(\"/content/drive/My Drive/interviews/square panda/DataTest_Question1.xlsx\")"
      ],
      "execution_count": 6,
      "outputs": []
    },
    {
      "cell_type": "code",
      "metadata": {
        "id": "VpJqKCH4wf04",
        "colab_type": "code",
        "colab": {
          "base_uri": "https://localhost:8080/",
          "height": 102
        },
        "outputId": "858a112a-e532-43f3-e675-7997fb13249f"
      },
      "source": [
        "master_df.keys()"
      ],
      "execution_count": 7,
      "outputs": [
        {
          "output_type": "execute_result",
          "data": {
            "text/plain": [
              "Index(['id', 'childid', 'endtime', 'gamename', 'gamescore', 'nonsensewords',\n",
              "       'starttime', 'userid', 'word', 'wordtype', 'createdat', 'end_ms_time',\n",
              "       'start_ms_time', 'platform', 'dnc', 'gender', 'dateofbirth',\n",
              "       'duration'],\n",
              "      dtype='object')"
            ]
          },
          "metadata": {
            "tags": []
          },
          "execution_count": 7
        }
      ]
    },
    {
      "cell_type": "code",
      "metadata": {
        "id": "9tcR2KzHHe5J",
        "colab_type": "code",
        "colab": {
          "base_uri": "https://localhost:8080/",
          "height": 309
        },
        "outputId": "352c1991-e65b-4ed1-e6e6-a21bc2885f31"
      },
      "source": [
        "master_df.head()"
      ],
      "execution_count": 838,
      "outputs": [
        {
          "output_type": "execute_result",
          "data": {
            "text/html": [
              "<div>\n",
              "<style scoped>\n",
              "    .dataframe tbody tr th:only-of-type {\n",
              "        vertical-align: middle;\n",
              "    }\n",
              "\n",
              "    .dataframe tbody tr th {\n",
              "        vertical-align: top;\n",
              "    }\n",
              "\n",
              "    .dataframe thead th {\n",
              "        text-align: right;\n",
              "    }\n",
              "</style>\n",
              "<table border=\"1\" class=\"dataframe\">\n",
              "  <thead>\n",
              "    <tr style=\"text-align: right;\">\n",
              "      <th></th>\n",
              "      <th>id</th>\n",
              "      <th>childid</th>\n",
              "      <th>endtime</th>\n",
              "      <th>gamename</th>\n",
              "      <th>gamescore</th>\n",
              "      <th>nonsensewords</th>\n",
              "      <th>starttime</th>\n",
              "      <th>userid</th>\n",
              "      <th>word</th>\n",
              "      <th>wordtype</th>\n",
              "      <th>createdat</th>\n",
              "      <th>end_ms_time</th>\n",
              "      <th>start_ms_time</th>\n",
              "      <th>platform</th>\n",
              "      <th>dnc</th>\n",
              "      <th>gender</th>\n",
              "      <th>dateofbirth</th>\n",
              "      <th>duration</th>\n",
              "    </tr>\n",
              "  </thead>\n",
              "  <tbody>\n",
              "    <tr>\n",
              "      <th>0</th>\n",
              "      <td>57830938206ac2317f5a957b</td>\n",
              "      <td>149</td>\n",
              "      <td>1.468206e+09</td>\n",
              "      <td>Bowling</td>\n",
              "      <td>1.0</td>\n",
              "      <td>False</td>\n",
              "      <td>1.468206e+09</td>\n",
              "      <td>11</td>\n",
              "      <td>POD</td>\n",
              "      <td>WORD</td>\n",
              "      <td>2016-07-11 02:49:28.421</td>\n",
              "      <td>NaN</td>\n",
              "      <td>NaN</td>\n",
              "      <td>NaN</td>\n",
              "      <td>1.0</td>\n",
              "      <td>M</td>\n",
              "      <td>2014-07-06 00:00:00</td>\n",
              "      <td>23.0</td>\n",
              "    </tr>\n",
              "    <tr>\n",
              "      <th>1</th>\n",
              "      <td>57848a78f3a1395b14b2b463</td>\n",
              "      <td>150</td>\n",
              "      <td>1.468304e+09</td>\n",
              "      <td>Bowling</td>\n",
              "      <td>1.0</td>\n",
              "      <td>False</td>\n",
              "      <td>1.468304e+09</td>\n",
              "      <td>11</td>\n",
              "      <td>SUM</td>\n",
              "      <td>WORD</td>\n",
              "      <td>2016-07-12 06:13:12.252</td>\n",
              "      <td>NaN</td>\n",
              "      <td>NaN</td>\n",
              "      <td>NaN</td>\n",
              "      <td>1.0</td>\n",
              "      <td>F</td>\n",
              "      <td>2011-07-06 00:00:00</td>\n",
              "      <td>21.0</td>\n",
              "    </tr>\n",
              "    <tr>\n",
              "      <th>2</th>\n",
              "      <td>57854751bada44451d58ae0e</td>\n",
              "      <td>943</td>\n",
              "      <td>1.468353e+09</td>\n",
              "      <td>Bowling</td>\n",
              "      <td>1.0</td>\n",
              "      <td>False</td>\n",
              "      <td>1.468353e+09</td>\n",
              "      <td>279</td>\n",
              "      <td>BOX</td>\n",
              "      <td>WORD</td>\n",
              "      <td>2016-07-12 19:38:57.303</td>\n",
              "      <td>NaN</td>\n",
              "      <td>NaN</td>\n",
              "      <td>NaN</td>\n",
              "      <td>1.0</td>\n",
              "      <td>O</td>\n",
              "      <td>2015-05-28 00:00:00</td>\n",
              "      <td>18.0</td>\n",
              "    </tr>\n",
              "    <tr>\n",
              "      <th>3</th>\n",
              "      <td>578874d5515961826c267444</td>\n",
              "      <td>186</td>\n",
              "      <td>1.468215e+09</td>\n",
              "      <td>Lagoon</td>\n",
              "      <td>1.0</td>\n",
              "      <td>False</td>\n",
              "      <td>1.468215e+09</td>\n",
              "      <td>18</td>\n",
              "      <td>RAM</td>\n",
              "      <td>WORD</td>\n",
              "      <td>2016-07-15 05:29:57.875</td>\n",
              "      <td>NaN</td>\n",
              "      <td>NaN</td>\n",
              "      <td>NaN</td>\n",
              "      <td>1.0</td>\n",
              "      <td>F</td>\n",
              "      <td>1992-05-12 00:00:00</td>\n",
              "      <td>1.0</td>\n",
              "    </tr>\n",
              "    <tr>\n",
              "      <th>4</th>\n",
              "      <td>5789811d515961826c267908</td>\n",
              "      <td>196</td>\n",
              "      <td>1.468629e+09</td>\n",
              "      <td>Bowling</td>\n",
              "      <td>1.0</td>\n",
              "      <td>False</td>\n",
              "      <td>1.468629e+09</td>\n",
              "      <td>69</td>\n",
              "      <td>BIG</td>\n",
              "      <td>WORD</td>\n",
              "      <td>2016-07-16 00:34:37.138</td>\n",
              "      <td>NaN</td>\n",
              "      <td>NaN</td>\n",
              "      <td>NaN</td>\n",
              "      <td>0.0</td>\n",
              "      <td>F</td>\n",
              "      <td>2012-12-17 00:00:00</td>\n",
              "      <td>53.0</td>\n",
              "    </tr>\n",
              "  </tbody>\n",
              "</table>\n",
              "</div>"
            ],
            "text/plain": [
              "                         id  childid  ...          dateofbirth duration\n",
              "0  57830938206ac2317f5a957b      149  ...  2014-07-06 00:00:00     23.0\n",
              "1  57848a78f3a1395b14b2b463      150  ...  2011-07-06 00:00:00     21.0\n",
              "2  57854751bada44451d58ae0e      943  ...  2015-05-28 00:00:00     18.0\n",
              "3  578874d5515961826c267444      186  ...  1992-05-12 00:00:00      1.0\n",
              "4  5789811d515961826c267908      196  ...  2012-12-17 00:00:00     53.0\n",
              "\n",
              "[5 rows x 18 columns]"
            ]
          },
          "metadata": {
            "tags": []
          },
          "execution_count": 838
        }
      ]
    },
    {
      "cell_type": "markdown",
      "metadata": {
        "id": "IRvP3nonSQvl",
        "colab_type": "text"
      },
      "source": [
        "Data Preprocessing & Filteration"
      ]
    },
    {
      "cell_type": "code",
      "metadata": {
        "id": "NnmAcPKxxBdV",
        "colab_type": "code",
        "colab": {
          "base_uri": "https://localhost:8080/",
          "height": 68
        },
        "outputId": "33c5540e-ad99-42f3-e75a-998865d06896"
      },
      "source": [
        "print(master_df.shape)\n",
        "df = master_df[~master_df[\"dnc\"].isna()]\n",
        "print(df.shape)\n",
        "df = df[df[\"dnc\"]==0]\n",
        "df = df[df.apply(lambda x : x[\"endtime\"] >= x[\"starttime\"], axis=1)]\n",
        "print(df.shape)"
      ],
      "execution_count": 839,
      "outputs": [
        {
          "output_type": "stream",
          "text": [
            "(309625, 18)\n",
            "(309603, 18)\n",
            "(228120, 18)\n"
          ],
          "name": "stdout"
        }
      ]
    },
    {
      "cell_type": "code",
      "metadata": {
        "id": "E0KcUXBV7X97",
        "colab_type": "code",
        "colab": {}
      },
      "source": [
        "df.sort_values(\"starttime\", inplace=True)"
      ],
      "execution_count": 840,
      "outputs": []
    },
    {
      "cell_type": "code",
      "metadata": {
        "id": "vIVZI01SJT8K",
        "colab_type": "code",
        "colab": {}
      },
      "source": [
        "df[\"year_month\"] = df[\"createdat\"].apply(lambda x: x.year * 100 + x.month)\n",
        "df[\"year_month_day\"] = df[\"createdat\"].apply(lambda x: (x.year * 100 + x.month)*100 + x.day)\n",
        "\n",
        "max_start_date = df[\"createdat\"].max().date() \n",
        "df[\"age\"] = df[\"dateofbirth\"].apply(lambda x: int((max_start_date - x.date()).days / 365) if not pd.isnull(x) else -1)\n",
        "df[\"age_when_registered\"] = df.apply(lambda x: int((x[\"createdat\"] - x[\"dateofbirth\"]).days / 365) \\\n",
        "                                                if not pd.isnull(x[\"dateofbirth\"]) else -1, axis=1)"
      ],
      "execution_count": 841,
      "outputs": []
    },
    {
      "cell_type": "markdown",
      "metadata": {
        "id": "ytyI5H80SiVO",
        "colab_type": "text"
      },
      "source": [
        "Filtering rows where age when registered is less than 1 year while keeping rows where date of birth is not mentioned"
      ]
    },
    {
      "cell_type": "code",
      "metadata": {
        "id": "Y7LTot7UWxJT",
        "colab_type": "code",
        "colab": {
          "base_uri": "https://localhost:8080/",
          "height": 34
        },
        "outputId": "55dcb658-9543-46d1-9a37-4f81a06270a3"
      },
      "source": [
        "df = df[df[\"age_when_registered\"].apply(lambda x : (x>1) or (x<0))]\n",
        "print(df.shape)"
      ],
      "execution_count": 844,
      "outputs": [
        {
          "output_type": "stream",
          "text": [
            "(219121, 23)\n"
          ],
          "name": "stdout"
        }
      ]
    },
    {
      "cell_type": "code",
      "metadata": {
        "id": "mD4YAWSVXQZJ",
        "colab_type": "code",
        "colab": {
          "base_uri": "https://localhost:8080/",
          "height": 296
        },
        "outputId": "4b4a0564-e037-4572-b8d9-88596645c4b7"
      },
      "source": [
        "sns.distplot(df[df[\"duration\"] < 1000][\"duration\"])"
      ],
      "execution_count": 845,
      "outputs": [
        {
          "output_type": "execute_result",
          "data": {
            "text/plain": [
              "<matplotlib.axes._subplots.AxesSubplot at 0x7f283bd70358>"
            ]
          },
          "metadata": {
            "tags": []
          },
          "execution_count": 845
        },
        {
          "output_type": "display_data",
          "data": {
            "image/png": "[encoded data removed]",
            "text/plain": [
              "<Figure size 432x288 with 1 Axes>"
            ]
          },
          "metadata": {
            "tags": [],
            "needs_background": "light"
          }
        }
      ]
    },
    {
      "cell_type": "markdown",
      "metadata": {
        "id": "q3TxHsLAS8uC",
        "colab_type": "text"
      },
      "source": [
        "Filtering rows where duration is more than 10 mintues (600 seconds)"
      ]
    },
    {
      "cell_type": "code",
      "metadata": {
        "id": "xvKqHHkDXaum",
        "colab_type": "code",
        "colab": {
          "base_uri": "https://localhost:8080/",
          "height": 34
        },
        "outputId": "262220b2-1d9f-42eb-8da4-a90c57508c73"
      },
      "source": [
        "df = df[df[\"duration\"]<=600]\n",
        "df = df[df[\"duration\"]>=0]\n",
        "df.shape"
      ],
      "execution_count": 846,
      "outputs": [
        {
          "output_type": "execute_result",
          "data": {
            "text/plain": [
              "(216713, 23)"
            ]
          },
          "metadata": {
            "tags": []
          },
          "execution_count": 846
        }
      ]
    },
    {
      "cell_type": "markdown",
      "metadata": {
        "id": "cH0SnDCykAQ9",
        "colab_type": "text"
      },
      "source": [
        "**1) Sessions**"
      ]
    },
    {
      "cell_type": "code",
      "metadata": {
        "id": "QLJKd45XzAcp",
        "colab_type": "code",
        "colab": {}
      },
      "source": [
        "def get_time_difference_between_events(df):\n",
        "  df[\"between_event_duration\"] = df[\"endtime\"] - df[\"starttime\"].shift()\n",
        "  return df\n",
        "\n",
        "def label_sessions(df, time_lag_in_minutes):\n",
        "    df[\"new_session\"] = df[\"between_event_duration\"] > time_lag_in_minutes * 60\n",
        "    df[\"session_id\"] = df[\"new_session\"].cumsum()\n",
        "    return df"
      ],
      "execution_count": 847,
      "outputs": []
    },
    {
      "cell_type": "code",
      "metadata": {
        "id": "f1XhlRWFzhpg",
        "colab_type": "code",
        "colab": {}
      },
      "source": [
        "df = df.groupby(\"userid\").apply(get_time_difference_between_events)"
      ],
      "execution_count": 848,
      "outputs": []
    },
    {
      "cell_type": "code",
      "metadata": {
        "id": "OW0qugkt7BC7",
        "colab_type": "code",
        "colab": {}
      },
      "source": [
        "temp_df = df[df[ \"between_event_duration\"] < 20000][\"between_event_duration\"]"
      ],
      "execution_count": 849,
      "outputs": []
    },
    {
      "cell_type": "code",
      "metadata": {
        "id": "kpYgVg5Y9pgw",
        "colab_type": "code",
        "colab": {
          "base_uri": "https://localhost:8080/",
          "height": 85
        },
        "outputId": "f21e56ef-b66b-4171-b3cc-fa5c63d30324"
      },
      "source": [
        "gm = GaussianMixture(n_components=2)\n",
        "gm.fit(np.array(temp_df[temp_df>0]).reshape(-1, 1))\n",
        "gm.means_, gm.covariances_"
      ],
      "execution_count": 850,
      "outputs": [
        {
          "output_type": "execute_result",
          "data": {
            "text/plain": [
              "(array([[ 114.14835565],\n",
              "        [1780.33593471]]), array([[[6.70234008e+03]],\n",
              " \n",
              "        [[1.00693718e+07]]]))"
            ]
          },
          "metadata": {
            "tags": []
          },
          "execution_count": 850
        }
      ]
    },
    {
      "cell_type": "markdown",
      "metadata": {
        "id": "LmtGrLgXIReD",
        "colab_type": "text"
      },
      "source": [
        "1(a) Session-ize the activities\n",
        "\n",
        "Taking average session time 1780 seconds ~ 30 mintues"
      ]
    },
    {
      "cell_type": "code",
      "metadata": {
        "id": "JuqsfdKzAoox",
        "colab_type": "code",
        "colab": {}
      },
      "source": [
        "df = df.groupby(\"userid\").apply(lambda x: label_sessions(x, 30))"
      ],
      "execution_count": 851,
      "outputs": []
    },
    {
      "cell_type": "code",
      "metadata": {
        "id": "IvnrmOiJLZo-",
        "colab_type": "code",
        "colab": {}
      },
      "source": [
        "df[\"user_session\"] = df.apply(lambda x: str(x[\"userid\"]) + \"s\" + str(x[\"session_id\"]), axis=1)"
      ],
      "execution_count": 852,
      "outputs": []
    },
    {
      "cell_type": "markdown",
      "metadata": {
        "id": "M3rtVmhLF4rc",
        "colab_type": "text"
      },
      "source": [
        "1(b) Activity per session"
      ]
    },
    {
      "cell_type": "code",
      "metadata": {
        "id": "cyG7eQxKHLeh",
        "colab_type": "code",
        "colab": {}
      },
      "source": [
        "user_session_df = df.groupby([\"year_month\", \"user_session\"])[\"userid\"].apply(np.count_nonzero).reset_index()"
      ],
      "execution_count": 853,
      "outputs": []
    },
    {
      "cell_type": "code",
      "metadata": {
        "id": "KQx47qfyKcjM",
        "colab_type": "code",
        "colab": {
          "base_uri": "https://localhost:8080/",
          "height": 351
        },
        "outputId": "6496b497-57b2-47e2-963f-fe8b91209429"
      },
      "source": [
        "plt.figure(figsize=(10,5))\n",
        "average_activity_per_sessions = user_session_df.groupby([\"year_month\"])[\"userid\"].apply(np.average)\n",
        "average_activity_per_sessions.name = \"activity per session\"\n",
        "ax = sns.barplot(x=average_activity_per_sessions.index, y=average_activity_per_sessions.values)\n",
        "_ = ax.set_title(\"Average activity per session over time\")"
      ],
      "execution_count": 854,
      "outputs": [
        {
          "output_type": "display_data",
          "data": {
            "image/png": "[encoded data removed]",
            "text/plain": [
              "<Figure size 720x360 with 1 Axes>"
            ]
          },
          "metadata": {
            "tags": [],
            "needs_background": "light"
          }
        }
      ]
    },
    {
      "cell_type": "markdown",
      "metadata": {
        "id": "nyw02YorN8Sw",
        "colab_type": "text"
      },
      "source": [
        " ."
      ]
    },
    {
      "cell_type": "markdown",
      "metadata": {
        "id": "9xqA6Dc2NpK4",
        "colab_type": "text"
      },
      "source": [
        "1(c) Count of games children play per session"
      ]
    },
    {
      "cell_type": "code",
      "metadata": {
        "id": "kC2lMkwlBip5",
        "colab_type": "code",
        "colab": {
          "base_uri": "https://localhost:8080/",
          "height": 295
        },
        "outputId": "a4b5b864-147c-4d83-a3c2-f25049ac066d"
      },
      "source": [
        "game_per_session = df.groupby([\"user_session\"])[\"gamename\"].apply(set).apply(len)\n",
        "game_per_session.name = \"Game Per Session\"\n",
        "ax = sns.distplot(game_per_session)\n",
        "_ = ax.set_title(\"Game per Session\")"
      ],
      "execution_count": 855,
      "outputs": [
        {
          "output_type": "display_data",
          "data": {
            "image/png": "[encoded data removed]",
            "text/plain": [
              "<Figure size 432x288 with 1 Axes>"
            ]
          },
          "metadata": {
            "tags": [],
            "needs_background": "light"
          }
        }
      ]
    },
    {
      "cell_type": "markdown",
      "metadata": {
        "id": "MLi5-fv1Y2gT",
        "colab_type": "text"
      },
      "source": [
        "."
      ]
    },
    {
      "cell_type": "markdown",
      "metadata": {
        "id": "NcuY1ZmokJur",
        "colab_type": "text"
      },
      "source": [
        "**2) Retention**"
      ]
    },
    {
      "cell_type": "code",
      "metadata": {
        "id": "c93U9G1hC-XE",
        "colab_type": "code",
        "colab": {}
      },
      "source": [
        "time_spent_on_activity_session = df.groupby([\"year_month_day\",\"childid\", \"user_session\"]).apply(lambda x: x[\"endtime\"].max() - x[\"starttime\"].min()).reset_index()\n",
        "time_spent_on_activity_daily = time_spent_on_activity_session.groupby([\"year_month_day\",\"childid\"])[0].apply(np.sum)"
      ],
      "execution_count": 868,
      "outputs": []
    },
    {
      "cell_type": "code",
      "metadata": {
        "id": "UVWR2pQ2bpkR",
        "colab_type": "code",
        "colab": {}
      },
      "source": [
        "# time_spent_on_activity_daily[time_spent_on_activity_daily==time_spent_on_activity_daily.max()]"
      ],
      "execution_count": 869,
      "outputs": []
    },
    {
      "cell_type": "code",
      "metadata": {
        "id": "t38tY8djapZR",
        "colab_type": "code",
        "colab": {
          "base_uri": "https://localhost:8080/",
          "height": 295
        },
        "outputId": "ef3fb854-fd53-4040-ec89-9b90791791fe"
      },
      "source": [
        "ax = sns.distplot(time_spent_on_activity_daily)\n",
        "_ = ax.set_title(\"Time spent on activity daily\")\n",
        "# ax.set_xscale(\"log\")"
      ],
      "execution_count": 870,
      "outputs": [
        {
          "output_type": "display_data",
          "data": {
            "image/png": "[encoded data removed]",
            "text/plain": [
              "<Figure size 432x288 with 1 Axes>"
            ]
          },
          "metadata": {
            "tags": [],
            "needs_background": "light"
          }
        }
      ]
    },
    {
      "cell_type": "markdown",
      "metadata": {
        "id": "BuEFaKSEPbv4",
        "colab_type": "text"
      },
      "source": [
        "2(a) Activity time per day"
      ]
    },
    {
      "cell_type": "code",
      "metadata": {
        "id": "xwx9mncqRgpW",
        "colab_type": "code",
        "colab": {
          "base_uri": "https://localhost:8080/",
          "height": 51
        },
        "outputId": "d23d06e2-813e-4dd2-8c37-af8b675b559f"
      },
      "source": [
        "print(\"Mean:\",round(time_spent_on_activity_daily.mean() / 60, 2), \"mintues\")\n",
        "print(\"Deviation:\", round(time_spent_on_activity_daily.std() /60, 2), \"minutes\")"
      ],
      "execution_count": 879,
      "outputs": [
        {
          "output_type": "stream",
          "text": [
            "Mean: 24.1 mintues\n",
            "Deviation: 30.16 minutes\n"
          ],
          "name": "stdout"
        }
      ]
    },
    {
      "cell_type": "markdown",
      "metadata": {
        "id": "CeGSRGaLdtR4",
        "colab_type": "text"
      },
      "source": [
        ".\n"
      ]
    },
    {
      "cell_type": "markdown",
      "metadata": {
        "id": "8k8vz-Zpdv8i",
        "colab_type": "text"
      },
      "source": [
        "2(b) Player Lifetime"
      ]
    },
    {
      "cell_type": "code",
      "metadata": {
        "id": "83dCOrwbcJ2M",
        "colab_type": "code",
        "colab": {
          "base_uri": "https://localhost:8080/",
          "height": 296
        },
        "outputId": "0e20ae4a-f63b-47ff-d0a2-f14418b89b83"
      },
      "source": [
        "lifetime = df.groupby([\"childid\"]).apply(lambda x: np.ceil((x[\"endtime\"].max() - x[\"starttime\"].min()) / (24*3600)))\n",
        "lifetime.name = \"lifetime\"\n",
        "sns.distplot(lifetime)"
      ],
      "execution_count": 872,
      "outputs": [
        {
          "output_type": "execute_result",
          "data": {
            "text/plain": [
              "<matplotlib.axes._subplots.AxesSubplot at 0x7f283bd59860>"
            ]
          },
          "metadata": {
            "tags": []
          },
          "execution_count": 872
        },
        {
          "output_type": "display_data",
          "data": {
            "image/png": "[encoded data removed]",
            "text/plain": [
              "<Figure size 432x288 with 1 Axes>"
            ]
          },
          "metadata": {
            "tags": [],
            "needs_background": "light"
          }
        }
      ]
    },
    {
      "cell_type": "code",
      "metadata": {
        "id": "qEjc74sffCWt",
        "colab_type": "code",
        "colab": {
          "base_uri": "https://localhost:8080/",
          "height": 51
        },
        "outputId": "218ef806-1aa2-4fe7-b59d-9c56e2b43c45"
      },
      "source": [
        "print(\"Mean:\",np.round(lifetime.mean(),2), \"days\")\n",
        "print(\"Deviation:\", np.round(lifetime.std(),2), \"days\")"
      ],
      "execution_count": 873,
      "outputs": [
        {
          "output_type": "stream",
          "text": [
            "Mean: 59.56 days\n",
            "Deviation: 75.47 days\n"
          ],
          "name": "stdout"
        }
      ]
    },
    {
      "cell_type": "markdown",
      "metadata": {
        "id": "v6oTkezQfYHA",
        "colab_type": "text"
      },
      "source": [
        ".\n"
      ]
    },
    {
      "cell_type": "markdown",
      "metadata": {
        "id": "Qy2wINBafZbm",
        "colab_type": "text"
      },
      "source": [
        "2(c) Games children play"
      ]
    },
    {
      "cell_type": "code",
      "metadata": {
        "id": "AePfhxrT-YoB",
        "colab_type": "code",
        "colab": {
          "base_uri": "https://localhost:8080/",
          "height": 296
        },
        "outputId": "6bc08ae6-7066-4494-bb00-0e1ffa57e2cd"
      },
      "source": [
        "s = df.groupby(\"childid\")[\"gamename\"].apply(set).apply(len)\n",
        "s.name = \"# of games\"\n",
        "sns.distplot(s)"
      ],
      "execution_count": 880,
      "outputs": [
        {
          "output_type": "execute_result",
          "data": {
            "text/plain": [
              "<matplotlib.axes._subplots.AxesSubplot at 0x7f283e4c95f8>"
            ]
          },
          "metadata": {
            "tags": []
          },
          "execution_count": 880
        },
        {
          "output_type": "display_data",
          "data": {
            "image/png": "[encoded data removed]",
            "text/plain": [
              "<Figure size 432x288 with 1 Axes>"
            ]
          },
          "metadata": {
            "tags": [],
            "needs_background": "light"
          }
        }
      ]
    },
    {
      "cell_type": "markdown",
      "metadata": {
        "id": "IBEU6kYeijv1",
        "colab_type": "text"
      },
      "source": [
        "**Children plays other games as well**"
      ]
    },
    {
      "cell_type": "code",
      "metadata": {
        "id": "hYO29TK1C9MU",
        "colab_type": "code",
        "colab": {
          "base_uri": "https://localhost:8080/",
          "height": 204
        },
        "outputId": "f249f44a-5817-4d1a-a3e3-afda4e007aca"
      },
      "source": [
        "def get_other_games(s):\n",
        "  first = s.iloc[0]\n",
        "  return list(set(s) - set([first]))\n",
        "\n",
        "other_games = df.groupby([\"user_session\",\"childid\"])[\"gamename\"].apply(get_other_games).tolist()\n",
        "print(\"Other Games that children plays in same session\")\n",
        "Counter(sum(other_games, [])).most_common()"
      ],
      "execution_count": 875,
      "outputs": [
        {
          "output_type": "stream",
          "text": [
            "Other Games that children plays in same session\n"
          ],
          "name": "stdout"
        },
        {
          "output_type": "execute_result",
          "data": {
            "text/plain": [
              "[('Lagoon', 2371),\n",
              " ('Bowling', 2309),\n",
              " ('Letter Fishing', 1323),\n",
              " ('Farming', 1257),\n",
              " ('Letterlab', 1149),\n",
              " ('Bubbles', 1140),\n",
              " ('Space Cows', 992),\n",
              " ('Monster Rhymes', 714),\n",
              " ('Jiggity Jamble', 423),\n",
              " ('Letter Lullaby', 10)]"
            ]
          },
          "metadata": {
            "tags": []
          },
          "execution_count": 875
        }
      ]
    },
    {
      "cell_type": "code",
      "metadata": {
        "id": "t_ye_C0rFIA9",
        "colab_type": "code",
        "colab": {}
      },
      "source": [
        ""
      ],
      "execution_count": 875,
      "outputs": []
    },
    {
      "cell_type": "markdown",
      "metadata": {
        "id": "WtIXxMueihsr",
        "colab_type": "text"
      },
      "source": [
        ".\n"
      ]
    },
    {
      "cell_type": "markdown",
      "metadata": {
        "id": "scfxYSrBgTL5",
        "colab_type": "text"
      },
      "source": [
        "2(d) Duration of 1st game vs others in session"
      ]
    },
    {
      "cell_type": "code",
      "metadata": {
        "id": "A40M32OzgR3R",
        "colab_type": "code",
        "colab": {}
      },
      "source": [
        "def compute(df):\n",
        "    first_game = df[\"gamename\"].iloc[0]\n",
        "    first_game_duration = df[df[\"gamename\"] == first_game][\"duration\"].sum()\n",
        "    total_duration = df[\"duration\"].sum()\n",
        "    return first_game_duration * 100 / total_duration"
      ],
      "execution_count": 876,
      "outputs": []
    },
    {
      "cell_type": "code",
      "metadata": {
        "id": "a-hoqu1ygfMZ",
        "colab_type": "code",
        "colab": {
          "base_uri": "https://localhost:8080/",
          "height": 71
        },
        "outputId": "05c00c7e-08f5-483c-b53f-ac1322225498"
      },
      "source": [
        "first_game_duration_percent = df.groupby([\"user_session\", \"childid\"]).apply(compute)"
      ],
      "execution_count": 877,
      "outputs": [
        {
          "output_type": "stream",
          "text": [
            "/usr/local/lib/python3.6/dist-packages/ipykernel_launcher.py:5: RuntimeWarning: invalid value encountered in double_scalars\n",
            "  \"\"\"\n"
          ],
          "name": "stderr"
        }
      ]
    },
    {
      "cell_type": "code",
      "metadata": {
        "id": "_j59uzHuiK1Y",
        "colab_type": "code",
        "colab": {
          "base_uri": "https://localhost:8080/",
          "height": 282
        },
        "outputId": "f89bb088-f7c3-482f-c707-b21c7206bd10"
      },
      "source": [
        "sns.distplot(first_game_duration_percent)"
      ],
      "execution_count": 878,
      "outputs": [
        {
          "output_type": "execute_result",
          "data": {
            "text/plain": [
              "<matplotlib.axes._subplots.AxesSubplot at 0x7f283c516438>"
            ]
          },
          "metadata": {
            "tags": []
          },
          "execution_count": 878
        },
        {
          "output_type": "display_data",
          "data": {
            "image/png": "[encoded data removed]",
            "text/plain": [
              "<Figure size 432x288 with 1 Axes>"
            ]
          },
          "metadata": {
            "tags": [],
            "needs_background": "light"
          }
        }
      ]
    },
    {
      "cell_type": "markdown",
      "metadata": {
        "id": "vju4qKJ-ioLE",
        "colab_type": "text"
      },
      "source": [
        "Children spent more time on the game they started with\n",
        "\n",
        "\n"
      ]
    },
    {
      "cell_type": "markdown",
      "metadata": {
        "id": "lp4XU5G8j0qB",
        "colab_type": "text"
      },
      "source": [
        "."
      ]
    },
    {
      "cell_type": "code",
      "metadata": {
        "id": "w3PReK25iNY9",
        "colab_type": "code",
        "colab": {}
      },
      "source": [
        ""
      ],
      "execution_count": 751,
      "outputs": []
    },
    {
      "cell_type": "markdown",
      "metadata": {
        "id": "ripcKR3aZvSq",
        "colab_type": "text"
      },
      "source": [
        "Feature Generation"
      ]
    },
    {
      "cell_type": "code",
      "metadata": {
        "id": "W7zPPDrwaBn7",
        "colab_type": "code",
        "colab": {
          "base_uri": "https://localhost:8080/",
          "height": 34
        },
        "outputId": "50f0f775-660a-44fa-b1de-7662844c6810"
      },
      "source": [
        "max_start_date_global = df[\"createdat\"].max()\n",
        "max_start_date_global"
      ],
      "execution_count": 752,
      "outputs": [
        {
          "output_type": "execute_result",
          "data": {
            "text/plain": [
              "Timestamp('2017-07-14 05:01:53.330000')"
            ]
          },
          "metadata": {
            "tags": []
          },
          "execution_count": 752
        }
      ]
    },
    {
      "cell_type": "code",
      "metadata": {
        "id": "mcpI8QLCKryD",
        "colab_type": "code",
        "colab": {}
      },
      "source": [
        "def filter_recent_data(df, n_days=7):\n",
        "  date_threshold = (max_start_date_global - datetime.timedelta(days=n_days)).date()\n",
        "  return df[df[\"createdat\"].dt.date < date_threshold]\n",
        "\n",
        "def input_data(df, n_days=7):\n",
        "  df_train = filter_recent_data(df, n_days=n_days)  \n",
        "  df_test = df[~df.index.isin(df_train.index)]\n",
        "  return df_train, df_test\n",
        "\n",
        "def engagement_index(df, max_start_date):\n",
        "  user_start_date = df[\"createdat\"].min().date()\n",
        "  user_last_date = df[\"createdat\"].max().date()\n",
        "  return (user_last_date - user_start_date + datetime.timedelta(1))/((max_start_date - user_start_date + datetime.timedelta(1)))\n",
        " \n",
        "\n",
        "def generate_features(df, max_start_date):\n",
        "  s = pd.Series()\n",
        "  s[\"engagement_score\"] = engagement_index(df, max_start_date)\n",
        "  s[\"days_after_last_access\"] = (max_start_date - df[\"createdat\"].max().date()).days\n",
        "  s[\"day_since_first_access\"] = (max_start_date - df[\"createdat\"].min().date()).days\n",
        "  s[\"n_games_played\"] = df[\"gamename\"].nunique()\n",
        "  s[\"duration_sum\"] = df[\"duration\"].sum()\n",
        "  s[\"duration_mean\"] = df[\"duration\"].mean()\n",
        "  s[\"active_last_7_days\"] = s[\"days_after_last_access\"] < 7\n",
        "  s[\"active_last_30_days\"] = s[\"days_after_last_access\"] < 30\n",
        "  s[\"n_played_days\"] = df[\"createdat\"].dt.date.nunique()\n",
        "  s[\"n_sessions\"] = df[\"user_session\"].nunique()\n",
        "  \n",
        "  try:\n",
        "    s[\"age_of_child\"] = int((max_start_date - df[\"dateofbirth\"].iloc[0].date()).days / 365)\n",
        "  except:\n",
        "    s[\"age_of_child\"] = -1 \n",
        "\n",
        "  s[\"platform\"] = df[\"platform_\"].iloc[-1]\n",
        "  s[\"gender\"] = df[\"gender_\"].iloc[0]\n",
        "  \n",
        "  return s\n",
        "\n"
      ],
      "execution_count": 857,
      "outputs": []
    },
    {
      "cell_type": "code",
      "metadata": {
        "id": "LAwXwjc4EcSi",
        "colab_type": "code",
        "colab": {}
      },
      "source": [
        "df[\"gender_\"] = df[\"gender\"].astype(\"category\").cat.codes\n",
        "df[\"platform_\"] = df[\"platform\"].astype(\"category\").cat.codes"
      ],
      "execution_count": 858,
      "outputs": []
    },
    {
      "cell_type": "code",
      "metadata": {
        "id": "8BRJGwEKZyk3",
        "colab_type": "code",
        "colab": {
          "base_uri": "https://localhost:8080/",
          "height": 156
        },
        "outputId": "e81c91aa-a48d-4878-b006-42e177025d5a"
      },
      "source": [
        "# train data\n",
        "interval_days = 7\n",
        "n_days = interval_days * 2\n",
        "\n",
        "x = []\n",
        "y = []\n",
        "for i in range(5):\n",
        "  df1, df2 = input_data(df, n_days=n_days+(i*interval_days))\n",
        "  max_start_date = df1[\"createdat\"].max().date()\n",
        "  print(max_start_date)\n",
        "  active_childs = df2[df2[\"createdat\"].dt.date < max_start_date + datetime.timedelta(interval_days)][\"childid\"].unique()\n",
        "  grouped_df2 = df1.groupby(\"childid\").apply(generate_features, max_start_date)\n",
        "  grouped_df2[\"active\"] = grouped_df2.index.isin(active_childs) * 1\n",
        "  x.append(grouped_df2[[\"engagement_score\", \"days_after_last_access\", \"day_since_first_access\", \"age_of_child\",\n",
        "                        \"n_games_played\", \"duration_sum\", \"duration_mean\", \"platform\", \"gender\", \"active_last_7_days\", \n",
        "                  \"active_last_30_days\", \"n_played_days\", \"n_sessions\"]].values)\n",
        "  y.append(grouped_df2[\"active\"].values)\n",
        "\n",
        "x_train = np.concatenate(x)\n",
        "y_train = np.concatenate(y)\n",
        "\n",
        "x_train.shape, y_train.shape"
      ],
      "execution_count": 860,
      "outputs": [
        {
          "output_type": "stream",
          "text": [
            "2017-06-29\n"
          ],
          "name": "stdout"
        },
        {
          "output_type": "stream",
          "text": [
            "/usr/local/lib/python3.6/dist-packages/ipykernel_launcher.py:17: DeprecationWarning: The default dtype for empty Series will be 'object' instead of 'float64' in a future version. Specify a dtype explicitly to silence this warning.\n"
          ],
          "name": "stderr"
        },
        {
          "output_type": "stream",
          "text": [
            "2017-06-22\n",
            "2017-06-15\n",
            "2017-06-08\n",
            "2017-06-01\n"
          ],
          "name": "stdout"
        },
        {
          "output_type": "execute_result",
          "data": {
            "text/plain": [
              "((12347, 13), (12347,))"
            ]
          },
          "metadata": {
            "tags": []
          },
          "execution_count": 860
        }
      ]
    },
    {
      "cell_type": "code",
      "metadata": {
        "id": "U8HAEtQJ9mcn",
        "colab_type": "code",
        "colab": {
          "base_uri": "https://localhost:8080/",
          "height": 105
        },
        "outputId": "973c3cdf-5e5d-475b-fa84-b3880305d0d1"
      },
      "source": [
        "# test data\n",
        "x_test = []\n",
        "y_test = []\n",
        "for i in range(2):\n",
        "  df1, df2 = input_data(df, n_days=(i+1)*interval_days)\n",
        "  max_start_date = df1[\"createdat\"].max().date()\n",
        "  print(max_start_date)\n",
        "  active_childs = df2[df2[\"createdat\"].dt.date < max_start_date + datetime.timedelta(interval_days)][\"childid\"].unique()\n",
        "  grouped_df2 = df1.groupby(\"childid\").apply(generate_features, max_start_date)\n",
        "  grouped_df2[\"active\"] = grouped_df2.index.isin(active_childs) * 1\n",
        "  x_test.append(grouped_df2[[\"engagement_score\", \"days_after_last_access\", \"day_since_first_access\", \"age_of_child\",\n",
        "                             \"n_games_played\", \"duration_sum\", \"duration_mean\", \"platform\", \"gender\", \"active_last_7_days\",\n",
        "                             \"active_last_30_days\", \"n_played_days\", \"n_sessions\"]].values)\n",
        "  y_test.append(grouped_df2[\"active\"].values)\n",
        "\n",
        "x_test = np.concatenate(x_test)\n",
        "y_test = np.concatenate(y_test)\n",
        "\n",
        "x_test.shape, y_test.shape"
      ],
      "execution_count": 861,
      "outputs": [
        {
          "output_type": "stream",
          "text": [
            "2017-07-06\n"
          ],
          "name": "stdout"
        },
        {
          "output_type": "stream",
          "text": [
            "/usr/local/lib/python3.6/dist-packages/ipykernel_launcher.py:17: DeprecationWarning: The default dtype for empty Series will be 'object' instead of 'float64' in a future version. Specify a dtype explicitly to silence this warning.\n"
          ],
          "name": "stderr"
        },
        {
          "output_type": "stream",
          "text": [
            "2017-06-29\n"
          ],
          "name": "stdout"
        },
        {
          "output_type": "execute_result",
          "data": {
            "text/plain": [
              "((5223, 13), (5223,))"
            ]
          },
          "metadata": {
            "tags": []
          },
          "execution_count": 861
        }
      ]
    },
    {
      "cell_type": "code",
      "metadata": {
        "id": "C4YRBRiz1xi1",
        "colab_type": "code",
        "colab": {}
      },
      "source": [
        "from sklearn.ensemble import RandomForestClassifier\n",
        "from sklearn.metrics import classification_report, precision_recall_curve, auc "
      ],
      "execution_count": 862,
      "outputs": []
    },
    {
      "cell_type": "code",
      "metadata": {
        "id": "icn7H0yY1J-i",
        "colab_type": "code",
        "colab": {
          "base_uri": "https://localhost:8080/",
          "height": 68
        },
        "outputId": "ee45803a-355f-4923-e516-85a0afc75ede"
      },
      "source": [
        "clf =  RandomForestClassifier(n_estimators=100, class_weight={0:1,1:5})\n",
        "clf.fit(x_train, y_train)\n",
        "clf.feature_importances_"
      ],
      "execution_count": 863,
      "outputs": [
        {
          "output_type": "execute_result",
          "data": {
            "text/plain": [
              "array([0.13400314, 0.15692339, 0.14224185, 0.06077487, 0.05253246,\n",
              "       0.11508169, 0.09484232, 0.02076367, 0.02372755, 0.05494473,\n",
              "       0.0323925 , 0.04993538, 0.06183646])"
            ]
          },
          "metadata": {
            "tags": []
          },
          "execution_count": 863
        }
      ]
    },
    {
      "cell_type": "markdown",
      "metadata": {
        "id": "eXf4dA69fV1B",
        "colab_type": "text"
      },
      "source": [
        "**Prediction**"
      ]
    },
    {
      "cell_type": "code",
      "metadata": {
        "id": "nImatHmg9Bgq",
        "colab_type": "code",
        "colab": {}
      },
      "source": [
        "y_pred = clf.predict_proba(x_test)"
      ],
      "execution_count": 864,
      "outputs": []
    },
    {
      "cell_type": "markdown",
      "metadata": {
        "id": "dxwcVZAu0m7s",
        "colab_type": "text"
      },
      "source": [
        "Precision-Recall Curve"
      ]
    },
    {
      "cell_type": "code",
      "metadata": {
        "id": "6xBP-k3V0agw",
        "colab_type": "code",
        "colab": {
          "base_uri": "https://localhost:8080/",
          "height": 282
        },
        "outputId": "de61479b-f88b-41a0-c36d-f332ddc8275a"
      },
      "source": [
        "precision, recall, _ = precision_recall_curve(y_test, y_pred[:,1])\n",
        "print(\"AUC PR Curve:\", auc(recall, precision))\n",
        "_ = sns.lineplot(precision, recall)"
      ],
      "execution_count": 865,
      "outputs": [
        {
          "output_type": "stream",
          "text": [
            "AUC PR Curve: 0.7465355601039237\n"
          ],
          "name": "stdout"
        },
        {
          "output_type": "display_data",
          "data": {
            "image/png": "[encoded data removed]",
            "text/plain": [
              "<Figure size 432x288 with 1 Axes>"
            ]
          },
          "metadata": {
            "tags": [],
            "needs_background": "light"
          }
        }
      ]
    },
    {
      "cell_type": "markdown",
      "metadata": {
        "id": "DpyS0NAhylYq",
        "colab_type": "text"
      },
      "source": [
        "**Result: Classifier has PR AUC score of 0.74**\n"
      ]
    },
    {
      "cell_type": "code",
      "metadata": {
        "id": "gMZiFcFx0aPt",
        "colab_type": "code",
        "colab": {
          "base_uri": "https://localhost:8080/",
          "height": 408
        },
        "outputId": "1b994847-f21b-4611-ed5e-f7f69f77a2a4"
      },
      "source": [
        "threshold = 0.1\n",
        "print(\"threshold: \", threshold)\n",
        "print(classification_report(y_test, (y_pred[:,1] > threshold) * 1))\n",
        "print(\"\\n\\n\")\n",
        "threshold = 0.05\n",
        "print(\"threshold: \", threshold)\n",
        "print(classification_report(y_test, (y_pred[:,1] > threshold) * 1))"
      ],
      "execution_count": 867,
      "outputs": [
        {
          "output_type": "stream",
          "text": [
            "threshold:  0.1\n",
            "              precision    recall  f1-score   support\n",
            "\n",
            "           0       0.98      0.94      0.96      4917\n",
            "           1       0.43      0.76      0.55       306\n",
            "\n",
            "    accuracy                           0.93      5223\n",
            "   macro avg       0.71      0.85      0.75      5223\n",
            "weighted avg       0.95      0.93      0.94      5223\n",
            "\n",
            "\n",
            "\n",
            "\n",
            "threshold:  0.05\n",
            "              precision    recall  f1-score   support\n",
            "\n",
            "           0       0.99      0.86      0.92      4917\n",
            "           1       0.28      0.87      0.42       306\n",
            "\n",
            "    accuracy                           0.86      5223\n",
            "   macro avg       0.63      0.86      0.67      5223\n",
            "weighted avg       0.95      0.86      0.89      5223\n",
            "\n"
          ],
          "name": "stdout"
        }
      ]
    },
    {
      "cell_type": "markdown",
      "metadata": {
        "id": "lIvY-zqfWqLX",
        "colab_type": "text"
      },
      "source": [
        "."
      ]
    },
    {
      "cell_type": "markdown",
      "metadata": {
        "id": "LitJWmOgVRx_",
        "colab_type": "text"
      },
      "source": [
        "**8 (b)** Likelihood of whether a child would play games will be more accurate for model which will be predicting likelihood of event in the next 30 days"
      ]
    },
    {
      "cell_type": "code",
      "metadata": {
        "id": "I1tNX4QzWf6A",
        "colab_type": "code",
        "colab": {}
      },
      "source": [
        ""
      ],
      "execution_count": null,
      "outputs": []
    }
  ]
}