{
  "nbformat": 4,
  "nbformat_minor": 0,
  "metadata": {
    "colab": {
      "name": "Chinese news article classification.ipynb",
      "provenance": [],
      "collapsed_sections": [],
      "authorship_tag": "ABX9TyMzDoYaIDv6Kn7Tng8Ft4hq",
      "include_colab_link": true
    },
    "kernelspec": {
      "name": "python3",
      "display_name": "Python 3"
    },
    "accelerator": "GPU"
  },
  "cells": [
    {
      "cell_type": "markdown",
      "metadata": {
        "id": "view-in-github",
        "colab_type": "text"
      },
      "source": [
        "<a href=\"https://colab.research.google.com/github/Somani-Harsh/data-science-python/blob/master/Chinese_news_article_classification.ipynb\" target=\"_parent\"><img src=\"https://colab.research.google.com/assets/colab-badge.svg\" alt=\"Open In Colab\"/></a>"
      ]
    },
    {
      "cell_type": "code",
      "metadata": {
        "id": "ZlSj-6xCjvnb",
        "colab_type": "code",
        "colab": {
          "base_uri": "https://localhost:8080/",
          "height": 34
        },
        "outputId": "70e3879b-d3bd-40b2-c693-0e10cc353934"
      },
      "source": [
        "from google.colab import drive\n",
        " \n",
        "drive.mount('/content/drive')"
      ],
      "execution_count": 6,
      "outputs": [
        {
          "output_type": "stream",
          "text": [
            "Mounted at /content/drive\n"
          ],
          "name": "stdout"
        }
      ]
    },
    {
      "cell_type": "code",
      "metadata": {
        "id": "rDVP-fzBIIW_",
        "colab_type": "code",
        "colab": {
          "base_uri": "https://localhost:8080/",
          "height": 122
        },
        "outputId": "db7df806-f02a-4577-c1fc-0d296d53da12"
      },
      "source": [
        "!pip install stopwordsiso"
      ],
      "execution_count": 7,
      "outputs": [
        {
          "output_type": "stream",
          "text": [
            "Collecting stopwordsiso\n",
            "\u001b[?25l  Downloading https://files.pythonhosted.org/packages/3e/03/4c5f24b654bb9459f81aa5c1b60b094b804286b99dca9f2e116c9eb01ac8/stopwordsiso-0.6.1-py3-none-any.whl (73kB)\n",
            "\u001b[K     |████████████████████████████████| 81kB 5.3MB/s \n",
            "\u001b[?25hInstalling collected packages: stopwordsiso\n",
            "Successfully installed stopwordsiso-0.6.1\n"
          ],
          "name": "stdout"
        }
      ]
    },
    {
      "cell_type": "code",
      "metadata": {
        "id": "RilTbZLAPwec",
        "colab_type": "code",
        "colab": {
          "base_uri": "https://localhost:8080/",
          "height": 615
        },
        "outputId": "103ef894-93ab-4c10-9860-67f5d9948330"
      },
      "source": [
        "!pip install transformers"
      ],
      "execution_count": 8,
      "outputs": [
        {
          "output_type": "stream",
          "text": [
            "Collecting transformers\n",
            "\u001b[?25l  Downloading https://files.pythonhosted.org/packages/d8/f4/9f93f06dd2c57c7cd7aa515ffbf9fcfd8a084b92285732289f4a5696dd91/transformers-3.2.0-py3-none-any.whl (1.0MB)\n",
            "\r\u001b[K     |▎                               | 10kB 26.3MB/s eta 0:00:01\r\u001b[K     |▋                               | 20kB 6.3MB/s eta 0:00:01\r\u001b[K     |█                               | 30kB 6.1MB/s eta 0:00:01\r\u001b[K     |█▎                              | 40kB 6.5MB/s eta 0:00:01\r\u001b[K     |█▋                              | 51kB 6.7MB/s eta 0:00:01\r\u001b[K     |██                              | 61kB 7.5MB/s eta 0:00:01\r\u001b[K     |██▎                             | 71kB 7.8MB/s eta 0:00:01\r\u001b[K     |██▋                             | 81kB 7.6MB/s eta 0:00:01\r\u001b[K     |███                             | 92kB 8.0MB/s eta 0:00:01\r\u001b[K     |███▎                            | 102kB 8.2MB/s eta 0:00:01\r\u001b[K     |███▋                            | 112kB 8.2MB/s eta 0:00:01\r\u001b[K     |███▉                            | 122kB 8.2MB/s eta 0:00:01\r\u001b[K     |████▏                           | 133kB 8.2MB/s eta 0:00:01\r\u001b[K     |████▌                           | 143kB 8.2MB/s eta 0:00:01\r\u001b[K     |████▉                           | 153kB 8.2MB/s eta 0:00:01\r\u001b[K     |█████▏                          | 163kB 8.2MB/s eta 0:00:01\r\u001b[K     |█████▌                          | 174kB 8.2MB/s eta 0:00:01\r\u001b[K     |█████▉                          | 184kB 8.2MB/s eta 0:00:01\r\u001b[K     |██████▏                         | 194kB 8.2MB/s eta 0:00:01\r\u001b[K     |██████▌                         | 204kB 8.2MB/s eta 0:00:01\r\u001b[K     |██████▉                         | 215kB 8.2MB/s eta 0:00:01\r\u001b[K     |███████▏                        | 225kB 8.2MB/s eta 0:00:01\r\u001b[K     |███████▍                        | 235kB 8.2MB/s eta 0:00:01\r\u001b[K     |███████▊                        | 245kB 8.2MB/s eta 0:00:01\r\u001b[K     |████████                        | 256kB 8.2MB/s eta 0:00:01\r\u001b[K     |████████▍                       | 266kB 8.2MB/s eta 0:00:01\r\u001b[K     |████████▊                       | 276kB 8.2MB/s eta 0:00:01\r\u001b[K     |█████████                       | 286kB 8.2MB/s eta 0:00:01\r\u001b[K     |█████████▍                      | 296kB 8.2MB/s eta 0:00:01\r\u001b[K     |█████████▊                      | 307kB 8.2MB/s eta 0:00:01\r\u001b[K     |██████████                      | 317kB 8.2MB/s eta 0:00:01\r\u001b[K     |██████████▍                     | 327kB 8.2MB/s eta 0:00:01\r\u001b[K     |██████████▊                     | 337kB 8.2MB/s eta 0:00:01\r\u001b[K     |███████████                     | 348kB 8.2MB/s eta 0:00:01\r\u001b[K     |███████████▎                    | 358kB 8.2MB/s eta 0:00:01\r\u001b[K     |███████████▋                    | 368kB 8.2MB/s eta 0:00:01\r\u001b[K     |████████████                    | 378kB 8.2MB/s eta 0:00:01\r\u001b[K     |████████████▎                   | 389kB 8.2MB/s eta 0:00:01\r\u001b[K     |████████████▋                   | 399kB 8.2MB/s eta 0:00:01\r\u001b[K     |█████████████                   | 409kB 8.2MB/s eta 0:00:01\r\u001b[K     |█████████████▎                  | 419kB 8.2MB/s eta 0:00:01\r\u001b[K     |█████████████▋                  | 430kB 8.2MB/s eta 0:00:01\r\u001b[K     |██████████████                  | 440kB 8.2MB/s eta 0:00:01\r\u001b[K     |██████████████▎                 | 450kB 8.2MB/s eta 0:00:01\r\u001b[K     |██████████████▋                 | 460kB 8.2MB/s eta 0:00:01\r\u001b[K     |██████████████▉                 | 471kB 8.2MB/s eta 0:00:01\r\u001b[K     |███████████████▏                | 481kB 8.2MB/s eta 0:00:01\r\u001b[K     |███████████████▌                | 491kB 8.2MB/s eta 0:00:01\r\u001b[K     |███████████████▉                | 501kB 8.2MB/s eta 0:00:01\r\u001b[K     |████████████████▏               | 512kB 8.2MB/s eta 0:00:01\r\u001b[K     |████████████████▌               | 522kB 8.2MB/s eta 0:00:01\r\u001b[K     |████████████████▉               | 532kB 8.2MB/s eta 0:00:01\r\u001b[K     |█████████████████▏              | 542kB 8.2MB/s eta 0:00:01\r\u001b[K     |█████████████████▌              | 552kB 8.2MB/s eta 0:00:01\r\u001b[K     |█████████████████▉              | 563kB 8.2MB/s eta 0:00:01\r\u001b[K     |██████████████████▏             | 573kB 8.2MB/s eta 0:00:01\r\u001b[K     |██████████████████▍             | 583kB 8.2MB/s eta 0:00:01\r\u001b[K     |██████████████████▊             | 593kB 8.2MB/s eta 0:00:01\r\u001b[K     |███████████████████             | 604kB 8.2MB/s eta 0:00:01\r\u001b[K     |███████████████████▍            | 614kB 8.2MB/s eta 0:00:01\r\u001b[K     |███████████████████▊            | 624kB 8.2MB/s eta 0:00:01\r\u001b[K     |████████████████████            | 634kB 8.2MB/s eta 0:00:01\r\u001b[K     |████████████████████▍           | 645kB 8.2MB/s eta 0:00:01\r\u001b[K     |████████████████████▊           | 655kB 8.2MB/s eta 0:00:01\r\u001b[K     |█████████████████████           | 665kB 8.2MB/s eta 0:00:01\r\u001b[K     |█████████████████████▍          | 675kB 8.2MB/s eta 0:00:01\r\u001b[K     |█████████████████████▊          | 686kB 8.2MB/s eta 0:00:01\r\u001b[K     |██████████████████████          | 696kB 8.2MB/s eta 0:00:01\r\u001b[K     |██████████████████████▎         | 706kB 8.2MB/s eta 0:00:01\r\u001b[K     |██████████████████████▋         | 716kB 8.2MB/s eta 0:00:01\r\u001b[K     |███████████████████████         | 727kB 8.2MB/s eta 0:00:01\r\u001b[K     |███████████████████████▎        | 737kB 8.2MB/s eta 0:00:01\r\u001b[K     |███████████████████████▋        | 747kB 8.2MB/s eta 0:00:01\r\u001b[K     |████████████████████████        | 757kB 8.2MB/s eta 0:00:01\r\u001b[K     |████████████████████████▎       | 768kB 8.2MB/s eta 0:00:01\r\u001b[K     |████████████████████████▋       | 778kB 8.2MB/s eta 0:00:01\r\u001b[K     |█████████████████████████       | 788kB 8.2MB/s eta 0:00:01\r\u001b[K     |█████████████████████████▎      | 798kB 8.2MB/s eta 0:00:01\r\u001b[K     |█████████████████████████▋      | 808kB 8.2MB/s eta 0:00:01\r\u001b[K     |█████████████████████████▉      | 819kB 8.2MB/s eta 0:00:01\r\u001b[K     |██████████████████████████▏     | 829kB 8.2MB/s eta 0:00:01\r\u001b[K     |██████████████████████████▌     | 839kB 8.2MB/s eta 0:00:01\r\u001b[K     |██████████████████████████▉     | 849kB 8.2MB/s eta 0:00:01\r\u001b[K     |███████████████████████████▏    | 860kB 8.2MB/s eta 0:00:01\r\u001b[K     |███████████████████████████▌    | 870kB 8.2MB/s eta 0:00:01\r\u001b[K     |███████████████████████████▉    | 880kB 8.2MB/s eta 0:00:01\r\u001b[K     |████████████████████████████▏   | 890kB 8.2MB/s eta 0:00:01\r\u001b[K     |████████████████████████████▌   | 901kB 8.2MB/s eta 0:00:01\r\u001b[K     |████████████████████████████▉   | 911kB 8.2MB/s eta 0:00:01\r\u001b[K     |█████████████████████████████▏  | 921kB 8.2MB/s eta 0:00:01\r\u001b[K     |█████████████████████████████▍  | 931kB 8.2MB/s eta 0:00:01\r\u001b[K     |█████████████████████████████▊  | 942kB 8.2MB/s eta 0:00:01\r\u001b[K     |██████████████████████████████  | 952kB 8.2MB/s eta 0:00:01\r\u001b[K     |██████████████████████████████▍ | 962kB 8.2MB/s eta 0:00:01\r\u001b[K     |██████████████████████████████▊ | 972kB 8.2MB/s eta 0:00:01\r\u001b[K     |███████████████████████████████ | 983kB 8.2MB/s eta 0:00:01\r\u001b[K     |███████████████████████████████▍| 993kB 8.2MB/s eta 0:00:01\r\u001b[K     |███████████████████████████████▊| 1.0MB 8.2MB/s eta 0:00:01\r\u001b[K     |████████████████████████████████| 1.0MB 8.2MB/s \n",
            "\u001b[?25hRequirement already satisfied: packaging in /usr/local/lib/python3.6/dist-packages (from transformers) (20.4)\n",
            "Collecting tokenizers==0.8.1.rc2\n",
            "\u001b[?25l  Downloading https://files.pythonhosted.org/packages/80/83/8b9fccb9e48eeb575ee19179e2bdde0ee9a1904f97de5f02d19016b8804f/tokenizers-0.8.1rc2-cp36-cp36m-manylinux1_x86_64.whl (3.0MB)\n",
            "\u001b[K     |████████████████████████████████| 3.0MB 29.6MB/s \n",
            "\u001b[?25hRequirement already satisfied: numpy in /usr/local/lib/python3.6/dist-packages (from transformers) (1.18.5)\n",
            "Collecting sentencepiece!=0.1.92\n",
            "\u001b[?25l  Downloading https://files.pythonhosted.org/packages/d4/a4/d0a884c4300004a78cca907a6ff9a5e9fe4f090f5d95ab341c53d28cbc58/sentencepiece-0.1.91-cp36-cp36m-manylinux1_x86_64.whl (1.1MB)\n",
            "\u001b[K     |████████████████████████████████| 1.1MB 33.1MB/s \n",
            "\u001b[?25hRequirement already satisfied: regex!=2019.12.17 in /usr/local/lib/python3.6/dist-packages (from transformers) (2019.12.20)\n",
            "Requirement already satisfied: requests in /usr/local/lib/python3.6/dist-packages (from transformers) (2.23.0)\n",
            "Collecting sacremoses\n",
            "\u001b[?25l  Downloading https://files.pythonhosted.org/packages/7d/34/09d19aff26edcc8eb2a01bed8e98f13a1537005d31e95233fd48216eed10/sacremoses-0.0.43.tar.gz (883kB)\n",
            "\u001b[K     |████████████████████████████████| 890kB 56.2MB/s \n",
            "\u001b[?25hRequirement already satisfied: filelock in /usr/local/lib/python3.6/dist-packages (from transformers) (3.0.12)\n",
            "Requirement already satisfied: tqdm>=4.27 in /usr/local/lib/python3.6/dist-packages (from transformers) (4.41.1)\n",
            "Requirement already satisfied: dataclasses; python_version < \"3.7\" in /usr/local/lib/python3.6/dist-packages (from transformers) (0.7)\n",
            "Requirement already satisfied: six in /usr/local/lib/python3.6/dist-packages (from packaging->transformers) (1.15.0)\n",
            "Requirement already satisfied: pyparsing>=2.0.2 in /usr/local/lib/python3.6/dist-packages (from packaging->transformers) (2.4.7)\n",
            "Requirement already satisfied: chardet<4,>=3.0.2 in /usr/local/lib/python3.6/dist-packages (from requests->transformers) (3.0.4)\n",
            "Requirement already satisfied: certifi>=2017.4.17 in /usr/local/lib/python3.6/dist-packages (from requests->transformers) (2020.6.20)\n",
            "Requirement already satisfied: idna<3,>=2.5 in /usr/local/lib/python3.6/dist-packages (from requests->transformers) (2.10)\n",
            "Requirement already satisfied: urllib3!=1.25.0,!=1.25.1,<1.26,>=1.21.1 in /usr/local/lib/python3.6/dist-packages (from requests->transformers) (1.24.3)\n",
            "Requirement already satisfied: click in /usr/local/lib/python3.6/dist-packages (from sacremoses->transformers) (7.1.2)\n",
            "Requirement already satisfied: joblib in /usr/local/lib/python3.6/dist-packages (from sacremoses->transformers) (0.16.0)\n",
            "Building wheels for collected packages: sacremoses\n",
            "  Building wheel for sacremoses (setup.py) ... \u001b[?25l\u001b[?25hdone\n",
            "  Created wheel for sacremoses: filename=sacremoses-0.0.43-cp36-none-any.whl size=893257 sha256=d3a1c8042e20e236681ae619c8097680f6dc0aec5a0e0eade7e6ea2bbce3a28c\n",
            "  Stored in directory: /root/.cache/pip/wheels/29/3c/fd/7ce5c3f0666dab31a50123635e6fb5e19ceb42ce38d4e58f45\n",
            "Successfully built sacremoses\n",
            "Installing collected packages: tokenizers, sentencepiece, sacremoses, transformers\n",
            "Successfully installed sacremoses-0.0.43 sentencepiece-0.1.91 tokenizers-0.8.1rc2 transformers-3.2.0\n"
          ],
          "name": "stdout"
        }
      ]
    },
    {
      "cell_type": "code",
      "metadata": {
        "id": "aX21nzfuQrGk",
        "colab_type": "code",
        "colab": {}
      },
      "source": [
        ""
      ],
      "execution_count": 8,
      "outputs": []
    },
    {
      "cell_type": "code",
      "metadata": {
        "id": "2hEFxjtajyth",
        "colab_type": "code",
        "colab": {}
      },
      "source": [
        "import pandas as pd\n",
        "import numpy as np\n",
        "import re\n",
        "from stopwordsiso import stopwords\n",
        "from sklearn.preprocessing import LabelEncoder, OneHotEncoder\n",
        "from sklearn.model_selection import train_test_split\n",
        "from torch.nn import functional as F\n",
        "import torch\n",
        "import tqdm\n",
        "from transformers import get_linear_schedule_with_warmup"
      ],
      "execution_count": 1,
      "outputs": []
    },
    {
      "cell_type": "code",
      "metadata": {
        "id": "2rOA3BC-nx7L",
        "colab_type": "code",
        "colab": {
          "base_uri": "https://localhost:8080/",
          "height": 34
        },
        "outputId": "acb1f7e8-f15b-42d0-8378-ad575b752ff1"
      },
      "source": [
        "torch.cuda.is_available()"
      ],
      "execution_count": 2,
      "outputs": [
        {
          "output_type": "execute_result",
          "data": {
            "text/plain": [
              "True"
            ]
          },
          "metadata": {
            "tags": []
          },
          "execution_count": 2
        }
      ]
    },
    {
      "cell_type": "code",
      "metadata": {
        "id": "95pU3dzEjy-L",
        "colab_type": "code",
        "colab": {
          "base_uri": "https://localhost:8080/",
          "height": 221
        },
        "outputId": "525dda44-054a-4990-8f4b-53d2d27fb0aa"
      },
      "source": [
        "df = pd.read_csv(\"drive/My Drive/interviews/Sirion labs/train_data.csv\")\n",
        "print(df.shape)\n",
        "df.head()"
      ],
      "execution_count": 3,
      "outputs": [
        {
          "output_type": "stream",
          "text": [
            "(2500, 3)\n"
          ],
          "name": "stdout"
        },
        {
          "output_type": "execute_result",
          "data": {
            "text/html": [
              "<div>\n",
              "<style scoped>\n",
              "    .dataframe tbody tr th:only-of-type {\n",
              "        vertical-align: middle;\n",
              "    }\n",
              "\n",
              "    .dataframe tbody tr th {\n",
              "        vertical-align: top;\n",
              "    }\n",
              "\n",
              "    .dataframe thead th {\n",
              "        text-align: right;\n",
              "    }\n",
              "</style>\n",
              "<table border=\"1\" class=\"dataframe\">\n",
              "  <thead>\n",
              "    <tr style=\"text-align: right;\">\n",
              "      <th></th>\n",
              "      <th>Unnamed: 0</th>\n",
              "      <th>text</th>\n",
              "      <th>category</th>\n",
              "    </tr>\n",
              "  </thead>\n",
              "  <tbody>\n",
              "    <tr>\n",
              "      <th>0</th>\n",
              "      <td>1497</td>\n",
              "      <td>﻿ 日月 光华   - -   Traffic _ Info 精华区 文章 阅读- - - ...</td>\n",
              "      <td>traffic</td>\n",
              "    </tr>\n",
              "    <tr>\n",
              "      <th>1</th>\n",
              "      <td>436</td>\n",
              "      <td>﻿                       日本 去年 海外 资产 和 负债额 均 创 ...</td>\n",
              "      <td>economic</td>\n",
              "    </tr>\n",
              "    <tr>\n",
              "      <th>2</th>\n",
              "      <td>736</td>\n",
              "      <td>﻿                       梁斌 黄胄 联袂 在 京 举办 画展新华社 ...</td>\n",
              "      <td>art</td>\n",
              "    </tr>\n",
              "    <tr>\n",
              "      <th>3</th>\n",
              "      <td>2673</td>\n",
              "      <td>﻿                       记者来信 ： 乱 降价 也 有害新华社 北京...</td>\n",
              "      <td>economic</td>\n",
              "    </tr>\n",
              "    <tr>\n",
              "      <th>4</th>\n",
              "      <td>2266</td>\n",
              "      <td>﻿                       巴解 愿同 叙利亚 和解新华社 开罗 ５ 月...</td>\n",
              "      <td>politics</td>\n",
              "    </tr>\n",
              "  </tbody>\n",
              "</table>\n",
              "</div>"
            ],
            "text/plain": [
              "   Unnamed: 0                                               text  category\n",
              "0        1497  ﻿ 日月 光华   - -   Traffic _ Info 精华区 文章 阅读- - - ...   traffic\n",
              "1         436  ﻿                       日本 去年 海外 资产 和 负债额 均 创 ...  economic\n",
              "2         736  ﻿                       梁斌 黄胄 联袂 在 京 举办 画展新华社 ...       art\n",
              "3        2673  ﻿                       记者来信 ： 乱 降价 也 有害新华社 北京...  economic\n",
              "4        2266  ﻿                       巴解 愿同 叙利亚 和解新华社 开罗 ５ 月...  politics"
            ]
          },
          "metadata": {
            "tags": []
          },
          "execution_count": 3
        }
      ]
    },
    {
      "cell_type": "code",
      "metadata": {
        "id": "l-TewAHZml68",
        "colab_type": "code",
        "colab": {
          "base_uri": "https://localhost:8080/",
          "height": 34
        },
        "outputId": "d17c2e42-fe1d-462d-c38f-85ce9dfb2e01"
      },
      "source": [
        "df = df[~df[\"text\"].isna()]\n",
        "df.shape"
      ],
      "execution_count": 4,
      "outputs": [
        {
          "output_type": "execute_result",
          "data": {
            "text/plain": [
              "(2498, 3)"
            ]
          },
          "metadata": {
            "tags": []
          },
          "execution_count": 4
        }
      ]
    },
    {
      "cell_type": "code",
      "metadata": {
        "id": "Nv2CGEyxHJye",
        "colab_type": "code",
        "colab": {}
      },
      "source": [
        "def preprocess_text(text):\n",
        "  text = re.sub(\"-\", \" \", text)  # Remove dashes\n",
        "  text = \" \".join(list(filter(lambda x: x not in stopwords(\"zh\"), text.split())))    # Remove Stopwords\n",
        "  return text\n"
      ],
      "execution_count": 5,
      "outputs": []
    },
    {
      "cell_type": "code",
      "metadata": {
        "id": "rPsVlvRNnzCA",
        "colab_type": "code",
        "colab": {}
      },
      "source": [
        "df[\"text\"] = df[\"text\"].apply(preprocess_text)\n",
        "df[\"text\"] = df[\"text\"].apply(lambda x: \"[CLS] \" + x + \" [END]\")"
      ],
      "execution_count": 6,
      "outputs": []
    },
    {
      "cell_type": "code",
      "metadata": {
        "id": "c1vV1lBFnCkS",
        "colab_type": "code",
        "colab": {
          "base_uri": "https://localhost:8080/",
          "height": 221
        },
        "outputId": "8e45bfb9-1315-44c5-a915-7a2ca7d3cb3f"
      },
      "source": [
        "df[\"text\"].str.split().apply(len).describe(percentiles=(0.5, 0.75, 0.8, 0.9, 0.95, 0.99))"
      ],
      "execution_count": 7,
      "outputs": [
        {
          "output_type": "execute_result",
          "data": {
            "text/plain": [
              "count    2498.000000\n",
              "mean      326.978383\n",
              "std       495.234674\n",
              "min        19.000000\n",
              "50%       168.000000\n",
              "75%       322.750000\n",
              "80%       395.000000\n",
              "90%       702.600000\n",
              "95%      1199.100000\n",
              "99%      2502.870000\n",
              "max      6248.000000\n",
              "Name: text, dtype: float64"
            ]
          },
          "metadata": {
            "tags": []
          },
          "execution_count": 7
        }
      ]
    },
    {
      "cell_type": "code",
      "metadata": {
        "id": "ZImcRAVzHcDY",
        "colab_type": "code",
        "colab": {
          "base_uri": "https://localhost:8080/",
          "height": 122
        },
        "outputId": "5c1b1257-4cb7-4319-b47f-d6ce532aa3e3"
      },
      "source": [
        "from transformers import BertTokenizer, BertForSequenceClassification\n",
        "\n",
        "tokenizer = BertTokenizer.from_pretrained(\"bert-base-chinese\")\n",
        "\n",
        "model = BertForSequenceClassification.from_pretrained(\"bert-base-chinese\", num_labels=10)"
      ],
      "execution_count": 8,
      "outputs": [
        {
          "output_type": "stream",
          "text": [
            "Some weights of the model checkpoint at bert-base-chinese were not used when initializing BertForSequenceClassification: ['cls.predictions.bias', 'cls.predictions.transform.dense.weight', 'cls.predictions.transform.dense.bias', 'cls.predictions.decoder.weight', 'cls.seq_relationship.weight', 'cls.seq_relationship.bias', 'cls.predictions.transform.LayerNorm.weight', 'cls.predictions.transform.LayerNorm.bias']\n",
            "- This IS expected if you are initializing BertForSequenceClassification from the checkpoint of a model trained on another task or with another architecture (e.g. initializing a BertForSequenceClassification model from a BertForPretraining model).\n",
            "- This IS NOT expected if you are initializing BertForSequenceClassification from the checkpoint of a model that you expect to be exactly identical (initializing a BertForSequenceClassification model from a BertForSequenceClassification model).\n",
            "Some weights of BertForSequenceClassification were not initialized from the model checkpoint at bert-base-chinese and are newly initialized: ['classifier.weight', 'classifier.bias']\n",
            "You should probably TRAIN this model on a down-stream task to be able to use it for predictions and inference.\n"
          ],
          "name": "stderr"
        }
      ]
    },
    {
      "cell_type": "code",
      "metadata": {
        "id": "ElwMeu7cYWY5",
        "colab_type": "code",
        "colab": {
          "base_uri": "https://localhost:8080/",
          "height": 51
        },
        "outputId": "0180215b-726e-4a62-c5b1-f7eaf8c187c0"
      },
      "source": [
        "le = LabelEncoder()\n",
        "labels = le.fit_transform(df[\"category\"])\n",
        "print(le.classes_)"
      ],
      "execution_count": 9,
      "outputs": [
        {
          "output_type": "stream",
          "text": [
            "['art' 'computer' 'economic' 'education' 'environment' 'medical'\n",
            " 'military' 'politics' 'sports' 'traffic']\n"
          ],
          "name": "stdout"
        }
      ]
    },
    {
      "cell_type": "code",
      "metadata": {
        "id": "bZg_ZzCdblBY",
        "colab_type": "code",
        "colab": {}
      },
      "source": [
        "X_train, X_test, y_train, y_test = train_test_split(df[\"text\"].tolist(), labels, \n",
        "                                                    test_size=0.2, stratify=labels, random_state=40)"
      ],
      "execution_count": 10,
      "outputs": []
    },
    {
      "cell_type": "code",
      "metadata": {
        "id": "xVLOBclgQ7UE",
        "colab_type": "code",
        "colab": {}
      },
      "source": [
        "encoding = tokenizer(X_train, return_tensors='pt', padding=True, truncation=True, \\\n",
        "                     max_length=512)\n",
        "\n",
        "train_input_ids = encoding[\"input_ids\"]\n",
        "train_attention_mask = encoding[\"attention_mask\"]"
      ],
      "execution_count": 11,
      "outputs": []
    },
    {
      "cell_type": "code",
      "metadata": {
        "id": "nN4YlIWZRjbv",
        "colab_type": "code",
        "colab": {}
      },
      "source": [
        "encoding = tokenizer(X_test, return_tensors='pt', padding=True, truncation=True, \\\n",
        "                     max_length=512)\n",
        "\n",
        "test_input_ids = encoding[\"input_ids\"]\n",
        "test_attention_mask = encoding[\"attention_mask\"]"
      ],
      "execution_count": 12,
      "outputs": []
    },
    {
      "cell_type": "code",
      "metadata": {
        "id": "oEOvbRBFbvVC",
        "colab_type": "code",
        "colab": {}
      },
      "source": [
        "num_labels = len(le.classes_)"
      ],
      "execution_count": 13,
      "outputs": []
    },
    {
      "cell_type": "code",
      "metadata": {
        "id": "h62Nbpcc5O8s",
        "colab_type": "code",
        "colab": {}
      },
      "source": [
        ""
      ],
      "execution_count": 13,
      "outputs": []
    },
    {
      "cell_type": "code",
      "metadata": {
        "id": "_D4eCkrz1JwM",
        "colab_type": "code",
        "colab": {
          "base_uri": "https://localhost:8080/",
          "height": 34
        },
        "outputId": "dfe2a3a6-5dc8-4f9e-8529-735040a162e4"
      },
      "source": [
        "model.classifier"
      ],
      "execution_count": 14,
      "outputs": [
        {
          "output_type": "execute_result",
          "data": {
            "text/plain": [
              "Linear(in_features=768, out_features=10, bias=True)"
            ]
          },
          "metadata": {
            "tags": []
          },
          "execution_count": 14
        }
      ]
    },
    {
      "cell_type": "code",
      "metadata": {
        "id": "2_GCELQoZSQ-",
        "colab_type": "code",
        "colab": {}
      },
      "source": [
        "device = torch.device(\"cuda:0\" if torch.cuda.is_available() else \"cpu\")"
      ],
      "execution_count": 15,
      "outputs": []
    },
    {
      "cell_type": "code",
      "metadata": {
        "id": "FhqFOPwXscVv",
        "colab_type": "code",
        "colab": {
          "base_uri": "https://localhost:8080/",
          "height": 34
        },
        "outputId": "2e482ba1-de87-4d05-a1a8-609a6a8e348d"
      },
      "source": [
        "batch_size = 16\n",
        "n_epochs = 5\n",
        "N = len(train_input_ids)\n",
        "N"
      ],
      "execution_count": 16,
      "outputs": [
        {
          "output_type": "execute_result",
          "data": {
            "text/plain": [
              "1998"
            ]
          },
          "metadata": {
            "tags": []
          },
          "execution_count": 16
        }
      ]
    },
    {
      "cell_type": "code",
      "metadata": {
        "id": "-TAXNp727QiQ",
        "colab_type": "code",
        "colab": {}
      },
      "source": [
        "# model.to(device)"
      ],
      "execution_count": 17,
      "outputs": []
    },
    {
      "cell_type": "code",
      "metadata": {
        "id": "c1TdDcFEvBYz",
        "colab_type": "code",
        "colab": {}
      },
      "source": [
        "optimizer = torch.optim.AdamW(model.parameters() , lr=2e-3)\n",
        "criterion = torch.nn.CrossEntropyLoss()\n",
        "scheduler = get_linear_schedule_with_warmup(optimizer, num_warmup_steps=0, num_training_steps=125*n_epochs)"
      ],
      "execution_count": 18,
      "outputs": []
    },
    {
      "cell_type": "code",
      "metadata": {
        "id": "C77PgGo5ZCdA",
        "colab_type": "code",
        "colab": {
          "base_uri": "https://localhost:8080/",
          "height": 442
        },
        "outputId": "81bbf8b8-38d1-42dd-d995-3e2fe0b45046"
      },
      "source": [
        "for epoch_i in range(n_epochs):\n",
        "    print(\"Epoch : \", epoch_i)\n",
        "\n",
        "    model.train()\n",
        "\n",
        "    for i in range(N//batch_size + 1):\n",
        "        \n",
        "        inputs = train_input_ids[i*batch_size:(i+1)*batch_size].to(device)\n",
        "        mask = train_attention_mask[i*batch_size:(i+1)*batch_size].to(device)\n",
        "        target = torch.from_numpy(y_train[i*batch_size:(i+1)*batch_size]).to(device)\n",
        "        \n",
        "        optimizer.zero_grad()\n",
        "        \n",
        "        pred = model(inputs, mask)[0]\n",
        "\n",
        "        loss = criterion(pred, target)\n",
        "        loss.backward()\n",
        "\n",
        "        torch.nn.utils.clip_grad_norm_(model.parameters(), 1.0)\n",
        "        optimizer.step()\n",
        "        scheduler.step()\n",
        "        accuracy = sum(np.argmax(pred.detach().cpu().numpy(), axis=1) == target.cpu().numpy()) / len(target)\n",
        "\n",
        "        if i % 30 == 29:\n",
        "            print(\"Step \", i, \" Loss: \", loss, \" Acc:\", accuracy)\n",
        "\n",
        "    # true_labels = 0\n",
        "    # for i in range(len(test)//batch_size + 1):\n",
        "    #     test_inputs = test_input_ids[i*batch_size:(i+1)*batch_size].to(device)\n",
        "    #     test_mask = test_attention_mask[i*batch_size:(i+1)*batch_size].to(device)\n",
        "\n",
        "    #     test_pred = net(test_inputs, test_mask)\n",
        "    #     test_target = y_test[i*batch_size:(i+1)*batch_size]\n",
        "    #     true_labels += sum(np.argmax(net(test_input_ids.to(device), test_attention_mask.to(device)).detach().numpy(), axis=1) == test_target)\n",
        "\n",
        "    # print(\"Validation Accuracy :\" , true_labels/len(y_test))\n",
        "        "
      ],
      "execution_count": 20,
      "outputs": [
        {
          "output_type": "stream",
          "text": [
            "Epoch :  0\n",
            "Step  29  Loss:  tensor(2.2328, device='cuda:0', grad_fn=<NllLossBackward>)  Acc: 0.25\n",
            "Step  59  Loss:  tensor(2.3368, device='cuda:0', grad_fn=<NllLossBackward>)  Acc: 0.125\n",
            "Step  89  Loss:  tensor(2.1748, device='cuda:0', grad_fn=<NllLossBackward>)  Acc: 0.25\n",
            "Step  119  Loss:  tensor(2.2084, device='cuda:0', grad_fn=<NllLossBackward>)  Acc: 0.125\n",
            "Epoch :  1\n",
            "Step  29  Loss:  tensor(2.2420, device='cuda:0', grad_fn=<NllLossBackward>)  Acc: 0.1875\n",
            "Step  59  Loss:  tensor(2.3265, device='cuda:0', grad_fn=<NllLossBackward>)  Acc: 0.25\n",
            "Step  89  Loss:  tensor(2.1674, device='cuda:0', grad_fn=<NllLossBackward>)  Acc: 0.25\n",
            "Step  119  Loss:  tensor(2.2600, device='cuda:0', grad_fn=<NllLossBackward>)  Acc: 0.125\n",
            "Epoch :  2\n",
            "Step  29  Loss:  tensor(2.1469, device='cuda:0', grad_fn=<NllLossBackward>)  Acc: 0.3125\n",
            "Step  59  Loss:  tensor(2.2679, device='cuda:0', grad_fn=<NllLossBackward>)  Acc: 0.1875\n",
            "Step  89  Loss:  tensor(2.2508, device='cuda:0', grad_fn=<NllLossBackward>)  Acc: 0.0625\n",
            "Step  119  Loss:  tensor(2.2769, device='cuda:0', grad_fn=<NllLossBackward>)  Acc: 0.125\n",
            "Epoch :  3\n",
            "Step  29  Loss:  tensor(2.2227, device='cuda:0', grad_fn=<NllLossBackward>)  Acc: 0.25\n",
            "Step  59  Loss:  tensor(2.3148, device='cuda:0', grad_fn=<NllLossBackward>)  Acc: 0.25\n",
            "Step  89  Loss:  tensor(2.2534, device='cuda:0', grad_fn=<NllLossBackward>)  Acc: 0.125\n",
            "Step  119  Loss:  tensor(2.2180, device='cuda:0', grad_fn=<NllLossBackward>)  Acc: 0.25\n",
            "Epoch :  4\n",
            "Step  29  Loss:  tensor(2.1831, device='cuda:0', grad_fn=<NllLossBackward>)  Acc: 0.25\n",
            "Step  59  Loss:  tensor(2.3710, device='cuda:0', grad_fn=<NllLossBackward>)  Acc: 0.125\n",
            "Step  89  Loss:  tensor(2.1619, device='cuda:0', grad_fn=<NllLossBackward>)  Acc: 0.125\n",
            "Step  119  Loss:  tensor(2.2316, device='cuda:0', grad_fn=<NllLossBackward>)  Acc: 0.1875\n"
          ],
          "name": "stdout"
        }
      ]
    },
    {
      "cell_type": "code",
      "metadata": {
        "id": "Z_j5Uv4GZJ5b",
        "colab_type": "code",
        "colab": {}
      },
      "source": [
        "torch.save(model.state_dict(), \"drive/My Drive/interviews/Sirion labs/model.pickle\")"
      ],
      "execution_count": 21,
      "outputs": []
    },
    {
      "cell_type": "code",
      "metadata": {
        "id": "WTJi2Bq7hY_t",
        "colab_type": "code",
        "colab": {
          "base_uri": "https://localhost:8080/",
          "height": 214
        },
        "outputId": "5501533d-a061-4478-ab76-e2d1c5898e87"
      },
      "source": [
        "torch.cuda.empty_cache()\n",
        "del loss\n",
        "del train_attention_mask\n",
        "del train_input_ids"
      ],
      "execution_count": 32,
      "outputs": [
        {
          "output_type": "error",
          "ename": "NameError",
          "evalue": "ignored",
          "traceback": [
            "\u001b[0;31m---------------------------------------------------------------------------\u001b[0m",
            "\u001b[0;31mNameError\u001b[0m                                 Traceback (most recent call last)",
            "\u001b[0;32m<ipython-input-32-d01decec75c2>\u001b[0m in \u001b[0;36m<module>\u001b[0;34m()\u001b[0m\n\u001b[1;32m      1\u001b[0m \u001b[0mtorch\u001b[0m\u001b[0;34m.\u001b[0m\u001b[0mcuda\u001b[0m\u001b[0;34m.\u001b[0m\u001b[0mempty_cache\u001b[0m\u001b[0;34m(\u001b[0m\u001b[0;34m)\u001b[0m\u001b[0;34m\u001b[0m\u001b[0;34m\u001b[0m\u001b[0m\n\u001b[1;32m      2\u001b[0m \u001b[0;32mdel\u001b[0m \u001b[0mloss\u001b[0m\u001b[0;34m\u001b[0m\u001b[0;34m\u001b[0m\u001b[0m\n\u001b[0;32m----> 3\u001b[0;31m \u001b[0;32mdel\u001b[0m \u001b[0mtrain_attention_mask\u001b[0m\u001b[0;34m\u001b[0m\u001b[0;34m\u001b[0m\u001b[0m\n\u001b[0m\u001b[1;32m      4\u001b[0m \u001b[0;32mdel\u001b[0m \u001b[0mtrain_input_ids\u001b[0m\u001b[0;34m\u001b[0m\u001b[0;34m\u001b[0m\u001b[0m\n",
            "\u001b[0;31mNameError\u001b[0m: name 'train_attention_mask' is not defined"
          ]
        }
      ]
    },
    {
      "cell_type": "code",
      "metadata": {
        "id": "Qbeon-9u6OoO",
        "colab_type": "code",
        "colab": {}
      },
      "source": [
        ""
      ],
      "execution_count": 33,
      "outputs": []
    },
    {
      "cell_type": "code",
      "metadata": {
        "id": "Co03a9qN6N88",
        "colab_type": "code",
        "colab": {
          "base_uri": "https://localhost:8080/",
          "height": 34
        },
        "outputId": "695e93db-f05b-4c7d-caf9-5a5d50a90609"
      },
      "source": [
        "model.load_state_dict(torch.load(\"drive/My Drive/interviews/Sirion labs/model.pickle\"))"
      ],
      "execution_count": 18,
      "outputs": [
        {
          "output_type": "execute_result",
          "data": {
            "text/plain": [
              "<All keys matched successfully>"
            ]
          },
          "metadata": {
            "tags": []
          },
          "execution_count": 18
        }
      ]
    },
    {
      "cell_type": "code",
      "metadata": {
        "id": "WyyTfXNuE1wz",
        "colab_type": "code",
        "colab": {}
      },
      "source": [
        "# model = model.cpu()\n",
        "model = model.to(device)\n",
        "_  = model.eval()\n",
        "batch_size = 4"
      ],
      "execution_count": 22,
      "outputs": []
    },
    {
      "cell_type": "code",
      "metadata": {
        "id": "tISEB0yniMdx",
        "colab_type": "code",
        "colab": {
          "base_uri": "https://localhost:8080/",
          "height": 51
        },
        "outputId": "dd10c5fe-b223-4f5a-ce13-99d8855ba471"
      },
      "source": [
        "true_labels = 0\n",
        "for i in tqdm.tqdm(range(len(y_test)//batch_size + 1)):\n",
        "    test_inputs = test_input_ids[i*batch_size:(i+1)*batch_size].to(device)\n",
        "    test_mask = test_attention_mask[i*batch_size:(i+1)*batch_size].to(device)\n",
        "\n",
        "    test_pred = model(test_inputs, test_mask)[0]\n",
        "    test_target =  y_test[i*batch_size:(i+1)*batch_size]\n",
        "    true_labels += sum(np.argmax(test_pred.detach().cpu().numpy(), axis=1) == test_target)\n",
        "\n",
        "print(\"Validation Accuracy :\" , true_labels/len(y_test))"
      ],
      "execution_count": 23,
      "outputs": [
        {
          "output_type": "stream",
          "text": [
            "100%|██████████| 126/126 [00:09<00:00, 13.21it/s]"
          ],
          "name": "stderr"
        },
        {
          "output_type": "stream",
          "text": [
            "Validation Accuracy : 0.16\n"
          ],
          "name": "stdout"
        },
        {
          "output_type": "stream",
          "text": [
            "\n"
          ],
          "name": "stderr"
        }
      ]
    },
    {
      "cell_type": "code",
      "metadata": {
        "id": "zTL6nHNx89Lm",
        "colab_type": "code",
        "colab": {}
      },
      "source": [
        ""
      ],
      "execution_count": null,
      "outputs": []
    }
  ]
}